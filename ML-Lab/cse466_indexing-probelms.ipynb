{
 "cells": [
  {
   "cell_type": "code",
   "execution_count": 79,
   "id": "17b2e8ff",
   "metadata": {},
   "outputs": [],
   "source": [
    "def build_inverted_index(documents):\n",
    "    inverted_index = {}\n",
    "    for doc_id, text in documents.items():\n",
    "        for word in text.lower().split():\n",
    "            if word not in inverted_index:\n",
    "                inverted_index[word] = set()\n",
    "            inverted_index[word].add(doc_id)\n",
    "    return dict(sorted(inverted_index.items()))"
   ]
  },
  {
   "cell_type": "code",
   "execution_count": 80,
   "id": "89ac9540",
   "metadata": {},
   "outputs": [],
   "source": [
    "def boolean_query(query, inverted_index, doc_ids):\n",
    "    tokens = query.lower().split()\n",
    "    if not tokens:\n",
    "        return set()\n",
    "    \n",
    "    all_docs = set(doc_ids)\n",
    "    \n",
    "    if tokens[0] == 'not' and len(tokens) > 1:\n",
    "        result = all_docs - inverted_index.get(tokens[1], set())\n",
    "        i = 2\n",
    "    else:\n",
    "        result = inverted_index.get(tokens[0], set())\n",
    "        i = 1\n",
    "    \n",
    "    while i < len(tokens):\n",
    "        if tokens[i] == 'and' and i + 1 < len(tokens):\n",
    "            if tokens[i + 1] == 'not' and i + 2 < len(tokens):\n",
    "                term = all_docs - inverted_index.get(tokens[i + 2], set())\n",
    "                i += 3\n",
    "            else:\n",
    "                term = inverted_index.get(tokens[i + 1], set())\n",
    "                i += 2\n",
    "            result = result & term\n",
    "        elif tokens[i] == 'or' and i + 1 < len(tokens):\n",
    "            if tokens[i + 1] == 'not' and i + 2 < len(tokens):\n",
    "                term = all_docs - inverted_index.get(tokens[i + 2], set())\n",
    "                i += 3\n",
    "            else:\n",
    "                term = inverted_index.get(tokens[i + 1], set())\n",
    "                i += 2\n",
    "            result = result | term\n",
    "        else:\n",
    "            i += 1\n",
    "    \n",
    "    return result"
   ]
  },
  {
   "cell_type": "markdown",
   "id": "fcb7d239",
   "metadata": {},
   "source": [
    "Problem 1"
   ]
  },
  {
   "cell_type": "code",
   "execution_count": 81,
   "id": "c2dc9138",
   "metadata": {},
   "outputs": [
    {
     "name": "stdout",
     "output_type": "stream",
     "text": [
      "Inverted Index: {'ap': {1, 2}, 'is': {2}, 'srm': {1}, 'state': {2}, 'university': {1}}\n"
     ]
    }
   ],
   "source": [
    "documents = {\n",
    "    1: \"SRM University AP\",\n",
    "    2: \"AP is State\"\n",
    "}\n",
    "\n",
    "inverted_index = build_inverted_index(documents)\n",
    "print(\"Inverted Index:\", inverted_index)"
   ]
  },
  {
   "cell_type": "code",
   "execution_count": 82,
   "id": "9e83a194",
   "metadata": {},
   "outputs": [
    {
     "name": "stdout",
     "output_type": "stream",
     "text": [
      "srm AND ap -> {1}\n",
      "srm OR ap -> {1, 2}\n",
      "NOT state -> {1}\n"
     ]
    }
   ],
   "source": [
    "queries = [\n",
    "    \"srm AND ap\",\n",
    "    \"srm OR ap\",\n",
    "    \"NOT state\"\n",
    "]\n",
    "\n",
    "for q in queries:\n",
    "    result = boolean_query(q, inverted_index, documents.keys())\n",
    "    print(f\"{q} -> {result}\")"
   ]
  },
  {
   "cell_type": "markdown",
   "id": "1f2f4fc2",
   "metadata": {},
   "source": [
    "Problem 2"
   ]
  },
  {
   "cell_type": "code",
   "execution_count": 83,
   "id": "e4c280c8",
   "metadata": {},
   "outputs": [
    {
     "name": "stdout",
     "output_type": "stream",
     "text": [
      "Inverted Index: {'and': {1}, 'brutus': {1, 2, 3}, 'caesar': {1, 2}, 'capitol': {3}, 'killed': {2}, 'sees': {3}}\n"
     ]
    }
   ],
   "source": [
    "documents = {\n",
    "    1: \"brutus and caesar\",\n",
    "    2: \"brutus killed caesar\",\n",
    "    3: \"capitol sees brutus\"\n",
    "}\n",
    "\n",
    "inverted_index = build_inverted_index(documents)\n",
    "print(\"Inverted Index:\", inverted_index)"
   ]
  },
  {
   "cell_type": "code",
   "execution_count": 84,
   "id": "ba70be90",
   "metadata": {},
   "outputs": [
    {
     "name": "stdout",
     "output_type": "stream",
     "text": [
      "brutus AND caesar -> {1, 2}\n",
      "brutus OR capitol -> {1, 2, 3}\n",
      "NOT killed -> {1, 3}\n"
     ]
    }
   ],
   "source": [
    "queries = [\n",
    "    \"brutus AND caesar\",\n",
    "    \"brutus OR capitol\",\n",
    "    \"NOT killed\"\n",
    "]\n",
    "\n",
    "for q in queries:\n",
    "    result = boolean_query(q, inverted_index, documents.keys())\n",
    "    print(f\"{q} -> {result}\")"
   ]
  },
  {
   "cell_type": "markdown",
   "id": "e8b0920b",
   "metadata": {},
   "source": [
    "Problem 3"
   ]
  },
  {
   "cell_type": "code",
   "execution_count": 85,
   "id": "8c810a02",
   "metadata": {},
   "outputs": [
    {
     "name": "stdout",
     "output_type": "stream",
     "text": [
      "Inverted Index: {'forecasts': {1}, 'home': {1, 2, 3, 4}, 'in': {2, 3}, 'increase': {3}, 'july': {2, 3, 4}, 'new': {1, 4}, 'rise': {2, 4}, 'sales': {1, 2, 3, 4}, 'top': {1}}\n"
     ]
    }
   ],
   "source": [
    "documents = {\n",
    "    1: \"new home sales top forecasts\",\n",
    "    2: \"home sales rise in july\",\n",
    "    3: \"increase in home sales in july\",\n",
    "    4: \"july new home sales rise\"\n",
    "}\n",
    "\n",
    "inverted_index = build_inverted_index(documents)\n",
    "print(\"Inverted Index:\", inverted_index)"
   ]
  },
  {
   "cell_type": "code",
   "execution_count": 86,
   "id": "d446d9c0",
   "metadata": {},
   "outputs": [
    {
     "name": "stdout",
     "output_type": "stream",
     "text": [
      "top AND sales -> {1}\n",
      "sales AND rise OR july -> {2, 3, 4}\n",
      "NOT increase AND top OR sales -> {1, 2, 3, 4}\n"
     ]
    }
   ],
   "source": [
    "queries = [\n",
    "    \"top AND sales\",\n",
    "    \"sales AND rise OR july\",\n",
    "    \"NOT increase AND top OR sales\"\n",
    "]\n",
    "\n",
    "for q in queries:\n",
    "    result = boolean_query(q, inverted_index, documents.keys())\n",
    "    print(f\"{q} -> {result}\")"
   ]
  },
  {
   "cell_type": "markdown",
   "id": "6eefcb8f",
   "metadata": {},
   "source": [
    "Problem 4"
   ]
  },
  {
   "cell_type": "code",
   "execution_count": 87,
   "id": "2b7b277d",
   "metadata": {},
   "outputs": [
    {
     "name": "stdout",
     "output_type": "stream",
     "text": [
      "Inverted Index: {'approach': {3}, 'breakthrough': {1}, 'drug': {1, 2}, 'for': {1, 3, 4}, 'hopes': {4}, 'new': {2, 3, 4}, 'of': {3}, 'patients': {4}, 'schizophrenia': {1, 2, 3, 4}, 'treatment': {3}}\n"
     ]
    }
   ],
   "source": [
    "documents = {\n",
    "    1: \"breakthrough drug for schizophrenia\",\n",
    "    2: \"new schizophrenia drug\",\n",
    "    3: \"new approach for treatment of schizophrenia\",\n",
    "    4: \"new hopes for schizophrenia patients\"\n",
    "}\n",
    "\n",
    "inverted_index = build_inverted_index(documents)\n",
    "print(\"Inverted Index:\", inverted_index)"
   ]
  },
  {
   "cell_type": "code",
   "execution_count": 88,
   "id": "d03af6fd",
   "metadata": {},
   "outputs": [
    {
     "name": "stdout",
     "output_type": "stream",
     "text": [
      "schizophrenia AND drug -> {1, 2}\n",
      "drug OR schizophrenia NOT patients -> {1, 2, 3, 4}\n",
      "for AND NOT (drug OR approach) -> {1, 3, 4}\n"
     ]
    }
   ],
   "source": [
    "queries = [\n",
    "    \"schizophrenia AND drug\",\n",
    "    \"drug OR schizophrenia NOT patients\",\n",
    "    \"for AND NOT (drug OR approach)\"\n",
    "]\n",
    "\n",
    "for q in queries:\n",
    "    result = boolean_query(q, inverted_index, documents.keys())\n",
    "    print(f\"{q} -> {result}\")"
   ]
  }
 ],
 "metadata": {
  "kernelspec": {
   "display_name": ".venv",
   "language": "python",
   "name": "python3"
  },
  "language_info": {
   "codemirror_mode": {
    "name": "ipython",
    "version": 3
   },
   "file_extension": ".py",
   "mimetype": "text/x-python",
   "name": "python",
   "nbconvert_exporter": "python",
   "pygments_lexer": "ipython3",
   "version": "3.11.0"
  }
 },
 "nbformat": 4,
 "nbformat_minor": 5
}
