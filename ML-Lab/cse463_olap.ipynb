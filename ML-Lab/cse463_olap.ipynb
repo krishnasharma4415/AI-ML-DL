{
 "cells": [
  {
   "cell_type": "code",
   "execution_count": 1,
   "metadata": {},
   "outputs": [],
   "source": [
    "import numpy as np\n",
    "import pandas as pd"
   ]
  },
  {
   "cell_type": "code",
   "execution_count": 16,
   "metadata": {},
   "outputs": [],
   "source": [
    "data = np.array([\n",
    "    [[854, 882, 89, 623], [943, 890, 64, 698], [1032, 924, 59, 789], [1129, 992, 63, 870]],  # Chicago\n",
    "    [[1087, 968, 38, 872], [1130, 1024, 41, 925], [1034, 1048, 45, 1002], [1142, 1091, 54, 984]],  # New York\n",
    "    [[818, 746, 43, 591], [894, 769, 52, 682], [940, 795, 58, 728], [978, 864, 59, 784]],  # Toronto\n",
    "    [[605, 825, 14, 400], [680, 952, 31, 512], [812, 1023, 30, 501], [927, 1038, 38, 580]]  # Vancouver\n",
    "])"
   ]
  },
  {
   "cell_type": "code",
   "execution_count": 17,
   "metadata": {},
   "outputs": [],
   "source": [
    "locations = [\"Chicago\", \"New York\", \"Toronto\", \"Vancouver\"]\n",
    "times = [\"Q1\", \"Q2\", \"Q3\", \"Q4\"]\n",
    "items = [\"entertainment\", \"computer\", \"phone\", \"security\"]"
   ]
  },
  {
   "cell_type": "code",
   "execution_count": 18,
   "metadata": {},
   "outputs": [],
   "source": [
    "def slice(dim, value):\n",
    "    if dim == \"location\":\n",
    "        index = locations.index(value)\n",
    "        return data[index, :, :]\n",
    "    elif dim == \"time\":\n",
    "        index = times.index(value)\n",
    "        return data[:, index, :]\n",
    "    else:\n",
    "        return \"Invalid dimension\""
   ]
  },
  {
   "cell_type": "code",
   "execution_count": 19,
   "metadata": {},
   "outputs": [],
   "source": [
    "def dice(locs, times_, items_):\n",
    "    loc_indices = [locations.index(loc) for loc in locs]\n",
    "    time_indices = [times.index(t) for t in times_]\n",
    "    item_indices = [items.index(it) for it in items_]\n",
    "    return data[np.ix_(loc_indices, time_indices, item_indices)]"
   ]
  },
  {
   "cell_type": "code",
   "execution_count": 20,
   "metadata": {},
   "outputs": [],
   "source": [
    "def rollup(dim):\n",
    "    if dim == \"time\":\n",
    "        return np.sum(data, axis=1)\n",
    "    elif dim == \"item\":\n",
    "        return np.sum(data, axis=2)\n",
    "    else:\n",
    "        return \"Invalid dimension\""
   ]
  },
  {
   "cell_type": "code",
   "execution_count": 21,
   "metadata": {},
   "outputs": [],
   "source": [
    "def olap(choice):\n",
    "    if choice == \"1\":\n",
    "        dim = input(\"Enter dimension (location/time): \")\n",
    "        value = input(f\"Enter value ({', '.join(locations) if dim == 'location' else ', '.join(times)}): \")\n",
    "        result = slice(dim, value)\n",
    "        print(result)\n",
    "\n",
    "    elif choice == \"2\":\n",
    "        locs = input(f\"Enter locations from {locations} (comma separated): \").split(', ')\n",
    "        times_ = input(f\"Enter times from {times} (comma separated): \").split(', ')\n",
    "        items_ = input(f\"Enter items from {items} (comma separated): \").split(', ')\n",
    "        result = dice(locs, times_, items_)\n",
    "        print(result)\n",
    "\n",
    "    elif choice == \"3\":\n",
    "        dim = input(\"Enter dimension to roll-up (time/item): \")\n",
    "        result = rollup(dim)\n",
    "        print(result)\n",
    "\n",
    "    elif choice == \"4\":\n",
    "        print(\"Exiting.\")\n",
    "\n",
    "    else:\n",
    "        print(\"Invalid choice!\")"
   ]
  },
  {
   "cell_type": "code",
   "execution_count": 28,
   "metadata": {},
   "outputs": [
    {
     "name": "stdout",
     "output_type": "stream",
     "text": [
      "[[ 854  882   89  623]\n",
      " [ 943  890   64  698]\n",
      " [1032  924   59  789]\n",
      " [1129  992   63  870]]\n",
      "[[1087  968   38  872]\n",
      " [1130 1024   41  925]\n",
      " [1034 1048   45 1002]\n",
      " [1142 1091   54  984]]\n",
      "[[ 854  882   89  623]\n",
      " [1087  968   38  872]\n",
      " [ 818  746   43  591]\n",
      " [ 605  825   14  400]]\n",
      "[[ 943  890   64  698]\n",
      " [1130 1024   41  925]\n",
      " [ 894  769   52  682]\n",
      " [ 680  952   31  512]]\n",
      "[[[698  64]]\n",
      "\n",
      " [[682  52]]]\n",
      "[[[1024   41]]\n",
      "\n",
      " [[ 769   52]]]\n",
      "[[3958 3688  275 2980]\n",
      " [4393 4131  178 3783]\n",
      " [3630 3174  212 2785]\n",
      " [3024 3838  113 1993]]\n",
      "[[2448 2595 2804 3054]\n",
      " [2965 3120 3129 3271]\n",
      " [2198 2397 2521 2685]\n",
      " [1844 2175 2366 2583]]\n",
      "Exiting.\n"
     ]
    }
   ],
   "source": [
    "while True:\n",
    "    choice = input(\"\\nMenu:\\n1. Slice\\n2. Dice\\n3. Roll-up\\n4. Exit\\nEnter choice: \")\n",
    "    olap(choice)\n",
    "    if choice == \"4\":\n",
    "        break"
   ]
  }
 ],
 "metadata": {
  "kernelspec": {
   "display_name": ".venv",
   "language": "python",
   "name": "python3"
  },
  "language_info": {
   "codemirror_mode": {
    "name": "ipython",
    "version": 3
   },
   "file_extension": ".py",
   "mimetype": "text/x-python",
   "name": "python",
   "nbconvert_exporter": "python",
   "pygments_lexer": "ipython3",
   "version": "3.11.0"
  }
 },
 "nbformat": 4,
 "nbformat_minor": 2
}
