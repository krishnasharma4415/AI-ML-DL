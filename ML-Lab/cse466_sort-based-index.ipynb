{
 "cells": [
  {
   "cell_type": "code",
   "execution_count": 4,
   "id": "f7c79ddc",
   "metadata": {},
   "outputs": [],
   "source": [
    "documents = {\n",
    "    1: \"data algorithm structure\",\n",
    "    2: \"database query system\",\n",
    "    3: \"algorithm analysis optimization\",\n",
    "    4: \"machine learning data model\",\n",
    "    5: \"network protocol security\",\n",
    "    6: \"operating system process scheduling\",\n",
    "    7: \"computer architecture hardware\",\n",
    "    8: \"data mining machine learning\",\n",
    "}"
   ]
  },
  {
   "cell_type": "code",
   "execution_count": null,
   "id": "8a423359",
   "metadata": {},
   "outputs": [],
   "source": [
    "inverted_index = {}\n",
    "for doc_id, text in documents.items():\n",
    "    for word in text.split():\n",
    "        word = word.lower()\n",
    "        if word not in inverted_index:\n",
    "            inverted_index[word] = set()\n",
    "        inverted_index[word].add(doc_id)"
   ]
  },
  {
   "cell_type": "code",
   "execution_count": null,
   "id": "30552f3f",
   "metadata": {},
   "outputs": [
    {
     "name": "stdout",
     "output_type": "stream",
     "text": [
      "Inverted Index (sorted):\n",
      "apple : {1, 2, 4}\n",
      "banana : {1, 2, 4}\n",
      "mango : {1, 3, 4}\n",
      "orange : {2, 4}\n",
      "pineapple : {3}\n"
     ]
    }
   ],
   "source": [
    "inverted_index = dict(sorted(inverted_index.items()))\n",
    "\n",
    "print(\"Inverted Index (sorted):\")\n",
    "for term, postings in inverted_index.items():\n",
    "    print(term, \":\", postings)"
   ]
  },
  {
   "cell_type": "code",
   "execution_count": null,
   "id": "f2cde1c0",
   "metadata": {},
   "outputs": [],
   "source": [
    "query = \"data and machine\"\n",
    "tokens = query.lower().split()"
   ]
  },
  {
   "cell_type": "code",
   "execution_count": 6,
   "id": "c36cf5b6",
   "metadata": {},
   "outputs": [],
   "source": [
    "result = set(documents.keys()) \n",
    "i = 0\n",
    "while i < len(tokens):\n",
    "    if tokens[i] == \"and\":\n",
    "        result = result & inverted_index.get(tokens[i+1], set())\n",
    "        i += 2\n",
    "    elif tokens[i] == \"or\":\n",
    "        result = result | inverted_index.get(tokens[i+1], set())\n",
    "        i += 2\n",
    "    elif tokens[i] == \"not\":\n",
    "        result = result - inverted_index.get(tokens[i+1], set())\n",
    "        i += 2\n",
    "    else:\n",
    "        result = inverted_index.get(tokens[i], set())\n",
    "        i += 1"
   ]
  },
  {
   "cell_type": "code",
   "execution_count": 8,
   "id": "58ece731",
   "metadata": {},
   "outputs": [
    {
     "name": "stdout",
     "output_type": "stream",
     "text": [
      "\n",
      "Boolean Query: data and machine\n"
     ]
    }
   ],
   "source": [
    "print(\"\\nBoolean Query:\", query)"
   ]
  }
 ],
 "metadata": {
  "kernelspec": {
   "display_name": ".venv",
   "language": "python",
   "name": "python3"
  },
  "language_info": {
   "codemirror_mode": {
    "name": "ipython",
    "version": 3
   },
   "file_extension": ".py",
   "mimetype": "text/x-python",
   "name": "python",
   "nbconvert_exporter": "python",
   "pygments_lexer": "ipython3",
   "version": "3.11.0"
  }
 },
 "nbformat": 4,
 "nbformat_minor": 5
}
