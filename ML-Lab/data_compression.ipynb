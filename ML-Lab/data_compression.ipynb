{
 "cells": [
  {
   "cell_type": "markdown",
   "id": "363c2097",
   "metadata": {},
   "source": [
    "Krishna Sharma | AP22110010128"
   ]
  },
  {
   "cell_type": "code",
   "execution_count": 1,
   "id": "6cd2e3c6",
   "metadata": {},
   "outputs": [],
   "source": [
    "documents = {\n",
    "    1: \"data algorithm structure\",\n",
    "    2: \"database query system\", \n",
    "    3: \"algorithm analysis optimization\",\n",
    "    4: \"machine learning data model\",\n",
    "    5: \"network protocol security\",\n",
    "    6: \"operating system process scheduling\",\n",
    "    7: \"computer architecture hardware\",\n",
    "    8: \"data mining machine learning\",\n",
    "}"
   ]
  },
  {
   "cell_type": "markdown",
   "id": "7dee4206",
   "metadata": {},
   "source": [
    "BLOCKING DICTIONARY STRING COMPRESSION"
   ]
  },
  {
   "cell_type": "code",
   "execution_count": 2,
   "id": "fca0e333",
   "metadata": {},
   "outputs": [],
   "source": [
    "vocabulary = set()\n",
    "for text in documents.values():\n",
    "    words = text.split()\n",
    "    for word in words:\n",
    "        vocabulary.add(word)"
   ]
  },
  {
   "cell_type": "code",
   "execution_count": 3,
   "id": "4f7c9d95",
   "metadata": {},
   "outputs": [
    {
     "name": "stdout",
     "output_type": "stream",
     "text": [
      "\n",
      "Word to Index Mapping:\n",
      "'structure' -> 0\n",
      "'process' -> 1\n",
      "'security' -> 2\n",
      "'system' -> 3\n",
      "'operating' -> 4\n",
      "'hardware' -> 5\n",
      "'architecture' -> 6\n",
      "'algorithm' -> 7\n",
      "'protocol' -> 8\n",
      "'query' -> 9\n",
      "'optimization' -> 10\n",
      "'mining' -> 11\n",
      "'network' -> 12\n",
      "'database' -> 13\n",
      "'learning' -> 14\n",
      "'analysis' -> 15\n",
      "'model' -> 16\n",
      "'data' -> 17\n",
      "'scheduling' -> 18\n",
      "'machine' -> 19\n",
      "'computer' -> 20\n"
     ]
    }
   ],
   "source": [
    "word_to_index = {}\n",
    "for i, word in enumerate(vocabulary):\n",
    "    word_to_index[word] = i\n",
    "\n",
    "print(f\"\\nWord to Index Mapping:\")\n",
    "for word, index in word_to_index.items():\n",
    "    print(f\"'{word}' -> {index}\")"
   ]
  },
  {
   "cell_type": "code",
   "execution_count": 4,
   "id": "cdbc93cd",
   "metadata": {},
   "outputs": [],
   "source": [
    "compressed_docs = {}\n",
    "for doc_id, text in documents.items():\n",
    "    words = text.split()\n",
    "    compressed = []\n",
    "    for word in words:\n",
    "        compressed.append(word_to_index[word])\n",
    "    compressed_docs[doc_id] = compressed"
   ]
  },
  {
   "cell_type": "code",
   "execution_count": null,
   "id": "e8936af0",
   "metadata": {},
   "outputs": [
    {
     "name": "stdout",
     "output_type": "stream",
     "text": [
      "\n",
      "Compressed Documents:\n",
      "Doc 1: [17, 7, 0]\n",
      "Doc 2: [13, 9, 3]\n",
      "Doc 3: [7, 15, 10]\n",
      "Doc 4: [19, 14, 17, 16]\n",
      "Doc 5: [12, 8, 2]\n",
      "Doc 6: [4, 3, 1, 18]\n",
      "Doc 7: [20, 6, 5]\n",
      "Doc 8: [17, 11, 19, 14]\n"
     ]
    }
   ],
   "source": [
    "print(f\"\\nCompressed Documents:\")\n",
    "for doc_id, compressed in compressed_docs.items():\n",
    "    print(f\"Doc {doc_id}: {compressed}\")"
   ]
  },
  {
   "cell_type": "code",
   "execution_count": 6,
   "id": "5515fc11",
   "metadata": {},
   "outputs": [],
   "source": [
    "original_size = 0\n",
    "for text in documents.values():\n",
    "    original_size += len(text)\n",
    "\n",
    "compressed_size = 0\n",
    "for compressed in compressed_docs.values():\n",
    "    compressed_size += len(compressed)"
   ]
  },
  {
   "cell_type": "code",
   "execution_count": 7,
   "id": "8d6cdee1",
   "metadata": {},
   "outputs": [
    {
     "name": "stdout",
     "output_type": "stream",
     "text": [
      "Original size (characters): 221\n",
      "Compressed size (indices): 27\n",
      "Compression ratio: 8.19:1\n"
     ]
    }
   ],
   "source": [
    "print(f\"Original size (characters): {original_size}\")\n",
    "print(f\"Compressed size (indices): {compressed_size}\")\n",
    "print(f\"Compression ratio: {original_size/compressed_size:.2f}:1\")"
   ]
  },
  {
   "cell_type": "markdown",
   "id": "e8888950",
   "metadata": {},
   "source": [
    "VARIABLE BYTE ENCODING"
   ]
  },
  {
   "cell_type": "code",
   "execution_count": 8,
   "id": "c8290517",
   "metadata": {},
   "outputs": [],
   "source": [
    "numbers = [1, 5, 127, 128, 255, 256, 1000, 2047]"
   ]
  },
  {
   "cell_type": "code",
   "execution_count": null,
   "id": "bac7c04f",
   "metadata": {},
   "outputs": [],
   "source": [
    "vb_encoded = {}\n",
    "for num in numbers:\n",
    "    if num == 0:\n",
    "        vb_encoded[num] = [128]  \n",
    "    else:\n",
    "        bytes_list = []\n",
    "        temp_num = num\n",
    "        \n",
    "        while temp_num >= 128:\n",
    "            bytes_list.insert(0, temp_num % 128)  \n",
    "            temp_num = temp_num // 128\n",
    "        \n",
    "        bytes_list.insert(0, temp_num + 128)\n",
    "        vb_encoded[num] = bytes_list"
   ]
  },
  {
   "cell_type": "code",
   "execution_count": 10,
   "id": "3b9f590f",
   "metadata": {},
   "outputs": [
    {
     "name": "stdout",
     "output_type": "stream",
     "text": [
      "Variable Byte Encoded:\n",
      "   1 -> [129] -> 10000001\n",
      "   5 -> [133] -> 10000101\n",
      " 127 -> [255] -> 11111111\n",
      " 128 -> [129, 0] -> 10000001 00000000\n",
      " 255 -> [129, 127] -> 10000001 01111111\n",
      " 256 -> [130, 0] -> 10000010 00000000\n",
      "1000 -> [135, 104] -> 10000111 01101000\n",
      "2047 -> [143, 127] -> 10001111 01111111\n"
     ]
    }
   ],
   "source": [
    "print(\"Variable Byte Encoded:\")\n",
    "for num, encoded in vb_encoded.items():\n",
    "    binary_repr = []\n",
    "    for byte_val in encoded:\n",
    "        binary_repr.append(f\"{byte_val:08b}\")\n",
    "    print(f\"{num:4d} -> {encoded} -> {' '.join(binary_repr)}\")"
   ]
  },
  {
   "cell_type": "code",
   "execution_count": 12,
   "id": "1def6442",
   "metadata": {},
   "outputs": [
    {
     "name": "stdout",
     "output_type": "stream",
     "text": [
      "Variable Byte Decoding:\n",
      "[129] -> 1\n",
      "[133] -> 5\n",
      "[255] -> 127\n",
      "[129, 0] -> 128\n",
      "[129, 127] -> 255\n",
      "[130, 0] -> 256\n",
      "[135, 104] -> 1000\n",
      "[143, 127] -> 2047\n"
     ]
    }
   ],
   "source": [
    "print(\"Variable Byte Decoding:\")\n",
    "for num, encoded in vb_encoded.items():\n",
    "    decoded = 0\n",
    "    for byte_val in encoded:\n",
    "        if byte_val >= 128:\n",
    "            decoded = decoded * 128 + (byte_val - 128)\n",
    "        else:\n",
    "            decoded = decoded * 128 + byte_val\n",
    "    print(f\"{encoded} -> {decoded}\")"
   ]
  },
  {
   "cell_type": "markdown",
   "id": "58b9aa29",
   "metadata": {},
   "source": [
    "GAMMA CODES"
   ]
  },
  {
   "cell_type": "code",
   "execution_count": 13,
   "id": "23a73ec4",
   "metadata": {},
   "outputs": [],
   "source": [
    "numbers = [1, 5, 127, 128, 255, 256, 1000, 2047]"
   ]
  },
  {
   "cell_type": "code",
   "execution_count": 14,
   "id": "368584c4",
   "metadata": {},
   "outputs": [],
   "source": [
    "gamma_encoded = {}\n",
    "for num in numbers:\n",
    "    if num <= 0:\n",
    "        print(f\"Cannot encode {num} with Gamma code (must be positive)\")\n",
    "        continue\n",
    "    \n",
    "    temp = num\n",
    "    bit_length = 0\n",
    "    while temp > 1:\n",
    "        temp = temp // 2\n",
    "        bit_length += 1\n",
    "    \n",
    "    unary_prefix = '0' * bit_length + '1'\n",
    "    binary_suffix = bin(num)[3:]  \n",
    "    \n",
    "    gamma_code = unary_prefix + binary_suffix\n",
    "    gamma_encoded[num] = gamma_code"
   ]
  },
  {
   "cell_type": "code",
   "execution_count": null,
   "id": "03662129",
   "metadata": {},
   "outputs": [
    {
     "name": "stdout",
     "output_type": "stream",
     "text": [
      "Gamma Encoded:\n",
      "   1 -> 1 (length: 1 bits)\n",
      "   5 -> 00101 (length: 5 bits)\n",
      " 127 -> 0000001111111 (length: 13 bits)\n",
      " 128 -> 000000010000000 (length: 15 bits)\n",
      " 255 -> 000000011111111 (length: 15 bits)\n",
      " 256 -> 00000000100000000 (length: 17 bits)\n",
      "1000 -> 0000000001111101000 (length: 19 bits)\n",
      "2047 -> 000000000011111111111 (length: 21 bits)\n"
     ]
    }
   ],
   "source": [
    "print(\"Gamma Encoded:\")\n",
    "for num, encoded in gamma_encoded.items():\n",
    "    print(f\"{num:4d} -> {encoded} (length: {len(encoded)} bits)\")"
   ]
  },
  {
   "cell_type": "code",
   "execution_count": 16,
   "id": "967bb9f0",
   "metadata": {},
   "outputs": [
    {
     "name": "stdout",
     "output_type": "stream",
     "text": [
      "Gamma Decoding:\n",
      "1 -> 1\n",
      "00101 -> 5\n",
      "0000001111111 -> 127\n",
      "000000010000000 -> 128\n",
      "000000011111111 -> 255\n",
      "00000000100000000 -> 256\n",
      "0000000001111101000 -> 1000\n",
      "000000000011111111111 -> 2047\n"
     ]
    }
   ],
   "source": [
    "print(\"Gamma Decoding:\")\n",
    "for num, encoded in gamma_encoded.items():\n",
    "    leading_zeros = 0\n",
    "    for bit in encoded:\n",
    "        if bit == '0':\n",
    "            leading_zeros += 1\n",
    "        else:\n",
    "            break\n",
    "\n",
    "    binary_suffix = encoded[leading_zeros + 1:]\n",
    "    \n",
    "    if binary_suffix:\n",
    "        binary_repr = '1' + binary_suffix\n",
    "        decoded = int(binary_repr, 2)\n",
    "    else:\n",
    "        decoded = 1 \n",
    "    \n",
    "    print(f\"{encoded} -> {decoded}\")"
   ]
  },
  {
   "cell_type": "markdown",
   "id": "1574fe43",
   "metadata": {},
   "source": [
    "Krishna Sharma | AP22110010128"
   ]
  }
 ],
 "metadata": {
  "kernelspec": {
   "display_name": ".venv",
   "language": "python",
   "name": "python3"
  },
  "language_info": {
   "codemirror_mode": {
    "name": "ipython",
    "version": 3
   },
   "file_extension": ".py",
   "mimetype": "text/x-python",
   "name": "python",
   "nbconvert_exporter": "python",
   "pygments_lexer": "ipython3",
   "version": "3.11.0"
  }
 },
 "nbformat": 4,
 "nbformat_minor": 5
}
