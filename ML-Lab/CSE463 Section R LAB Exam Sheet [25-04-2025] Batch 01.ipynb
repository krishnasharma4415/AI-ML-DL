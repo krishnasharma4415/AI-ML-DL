{
 "cells": [
  {
   "cell_type": "markdown",
   "id": "740dbba3",
   "metadata": {},
   "source": [
    "## Task 01:"
   ]
  },
  {
   "cell_type": "code",
   "execution_count": 2,
   "id": "04188fc4",
   "metadata": {
    "scrolled": false
   },
   "outputs": [
    {
     "ename": "ZeroDivisionError",
     "evalue": "division by zero",
     "output_type": "error",
     "traceback": [
      "\u001b[1;31m---------------------------------------------------------------------------\u001b[0m",
      "\u001b[1;31mZeroDivisionError\u001b[0m                         Traceback (most recent call last)",
      "Cell \u001b[1;32mIn[2], line 24\u001b[0m\n\u001b[0;32m     22\u001b[0m y_true \u001b[38;5;241m=\u001b[39m [\u001b[38;5;241m0\u001b[39m, \u001b[38;5;241m1\u001b[39m, \u001b[38;5;241m2\u001b[39m, \u001b[38;5;241m0\u001b[39m, \u001b[38;5;241m1\u001b[39m, \u001b[38;5;241m2\u001b[39m]\n\u001b[0;32m     23\u001b[0m y_pred \u001b[38;5;241m=\u001b[39m [\u001b[38;5;241m0\u001b[39m, \u001b[38;5;241m2\u001b[39m, \u001b[38;5;241m1\u001b[39m, \u001b[38;5;241m0\u001b[39m, \u001b[38;5;241m0\u001b[39m, \u001b[38;5;241m1\u001b[39m]\n\u001b[1;32m---> 24\u001b[0m \u001b[38;5;28mprint\u001b[39m(\u001b[38;5;124m'\u001b[39m\u001b[38;5;124mcase 01:\u001b[39m\u001b[38;5;124m'\u001b[39m, \u001b[43mprecision_score\u001b[49m\u001b[43m(\u001b[49m\u001b[43my_true\u001b[49m\u001b[43m,\u001b[49m\u001b[43m \u001b[49m\u001b[43my_pred\u001b[49m\u001b[43m)\u001b[49m)\n\u001b[0;32m     26\u001b[0m y_true \u001b[38;5;241m=\u001b[39m [\u001b[38;5;241m0\u001b[39m, \u001b[38;5;241m0\u001b[39m, \u001b[38;5;241m0\u001b[39m, \u001b[38;5;241m1\u001b[39m, \u001b[38;5;241m1\u001b[39m, \u001b[38;5;241m1\u001b[39m, \u001b[38;5;241m2\u001b[39m, \u001b[38;5;241m2\u001b[39m, \u001b[38;5;241m2\u001b[39m]\n\u001b[0;32m     27\u001b[0m y_pred \u001b[38;5;241m=\u001b[39m [\u001b[38;5;241m0\u001b[39m, \u001b[38;5;241m0\u001b[39m, \u001b[38;5;241m1\u001b[39m, \u001b[38;5;241m1\u001b[39m, \u001b[38;5;241m2\u001b[39m, \u001b[38;5;241m2\u001b[39m, \u001b[38;5;241m0\u001b[39m, \u001b[38;5;241m1\u001b[39m, \u001b[38;5;241m2\u001b[39m]\n",
      "Cell \u001b[1;32mIn[2], line 18\u001b[0m, in \u001b[0;36mprecision_score\u001b[1;34m(y_true, y_pred)\u001b[0m\n\u001b[0;32m     16\u001b[0m     \u001b[38;5;28;01mif\u001b[39;00m y_true[i] \u001b[38;5;241m==\u001b[39m \u001b[38;5;241m1\u001b[39m \u001b[38;5;129;01mand\u001b[39;00m y_pred[i] \u001b[38;5;241m==\u001b[39m \u001b[38;5;241m1\u001b[39m:\n\u001b[0;32m     17\u001b[0m         TP \u001b[38;5;241m+\u001b[39m\u001b[38;5;241m=\u001b[39m \u001b[38;5;241m1\u001b[39m\n\u001b[1;32m---> 18\u001b[0m Precision \u001b[38;5;241m=\u001b[39m \u001b[43mTP\u001b[49m\u001b[38;5;241;43m/\u001b[39;49m\u001b[43m(\u001b[49m\u001b[43mTP\u001b[49m\u001b[38;5;241;43m+\u001b[39;49m\u001b[43mFP\u001b[49m\u001b[43m)\u001b[49m\n\u001b[0;32m     19\u001b[0m PrecisionList\u001b[38;5;241m.\u001b[39mappend(Precision)\n\u001b[0;32m     20\u001b[0m \u001b[38;5;28;01mreturn\u001b[39;00m PrecisionList\n",
      "\u001b[1;31mZeroDivisionError\u001b[0m: division by zero"
     ]
    }
   ],
   "source": [
    "import numpy as np\n",
    "\n",
    "def precision_score(y_true, y_pred):\n",
    "    TP = 0\n",
    "    TN = 0\n",
    "    FP = 0\n",
    "    FN = 0\n",
    "    PrecisionList = []\n",
    "    for i in range(len(y_true)):\n",
    "        if y_true[i] == 0 and y_pred[i] == 0:\n",
    "            FN += 1\n",
    "        if y_true[i] == 0 and y_pred[i] == 1:\n",
    "            FP += 1\n",
    "        if y_true[i] == 1 and y_pred[i] == 0:\n",
    "            TN += 1\n",
    "        if y_true[i] == 1 and y_pred[i] == 1:\n",
    "            TP += 1\n",
    "    Precision = TP/(TP+FP)\n",
    "    PrecisionList.append(Precision)\n",
    "    return PrecisionList\n",
    "\n",
    "y_true = [0, 1, 2, 0, 1, 2]\n",
    "y_pred = [0, 2, 1, 0, 0, 1]\n",
    "print('case 01:', precision_score(y_true, y_pred))\n",
    "\n",
    "y_true = [0, 0, 0, 1, 1, 1, 2, 2, 2]\n",
    "y_pred = [0, 0, 1, 1, 2, 2, 0, 1, 2]\n",
    "print('case 02:', pecision_score(y_true, y_pred))\n",
    "\n",
    "y_true = [0, 0, 0, 1, 1, 1, 2, 2, 2, 3, 3, 3, 3, 3]\n",
    "y_pred = [0, 0, 1, 1, 2, 2, 0, 1, 2, 1, 0, 2, 3, 0]\n",
    "print('case 03:', precision_score(y_true, y_pred))\n",
    "\n",
    "y_true =  [0, 0, 0, 1, 1, 1, 2, 2, 2, 3, 3, 3, 3, 3,4,4,4,4]\n",
    "y_pred = [0, 0, 1, 1, 2, 2, 0, 1, 2, 1, 0, 2, 3, 0,1,2,3,4]\n",
    "print('case 04:', precision_score(y_true, y_pred))"
   ]
  },
  {
   "cell_type": "markdown",
   "id": "e06ab526",
   "metadata": {},
   "source": [
    "# Task 02:"
   ]
  },
  {
   "cell_type": "code",
   "execution_count": null,
   "id": "4feb724a",
   "metadata": {},
   "outputs": [],
   "source": [
    "def assign_points(medoids, points):\n",
    "    #write your code here:\n",
    "\n",
    "def total_error(clusters, medoids):\n",
    "    #write your code here:\n",
    "\n",
    "\n",
    "\n",
    "print('test case 01:')\n",
    "points = [\n",
    "    (1, 1), (2, 2), (1, 2), \n",
    "    (10, 10), (11, 11), (10, 11)  \n",
    "]\n",
    "medoids = [[1,2], [10, 11]]\n",
    "clusters = assign_points(medoids, points)\n",
    "current_cost = total_cost(clusters, medoids)\n",
    "print(clusters, current_cost)\n",
    "\n",
    "\n",
    "print('test case 02:')\n",
    "points = [\n",
    "    (1, 1), (2, 2), (3, 3), (4, 4), (5, 5), (6, 6)\n",
    "]\n",
    "\n",
    "medoids = [[1,1], [2, 2]]\n",
    "clusters = assign_points(medoids, points)\n",
    "current_cost = total_cost(clusters, medoids)\n",
    "print(clusters, current_cost)"
   ]
  }
 ],
 "metadata": {
  "kernelspec": {
   "display_name": ".venv",
   "language": "python",
   "name": "python3"
  },
  "language_info": {
   "codemirror_mode": {
    "name": "ipython",
    "version": 3
   },
   "file_extension": ".py",
   "mimetype": "text/x-python",
   "name": "python",
   "nbconvert_exporter": "python",
   "pygments_lexer": "ipython3",
   "version": "3.11.0"
  }
 },
 "nbformat": 4,
 "nbformat_minor": 5
}
