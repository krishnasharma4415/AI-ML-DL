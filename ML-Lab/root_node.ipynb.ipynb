{
 "cells": [
  {
   "cell_type": "code",
   "execution_count": 6,
   "metadata": {},
   "outputs": [],
   "source": [
    "import numpy as np\n",
    "import pandas as pd\n",
    "from math import log2"
   ]
  },
  {
   "cell_type": "code",
   "execution_count": 3,
   "metadata": {},
   "outputs": [
    {
     "data": {
      "text/html": [
       "<div>\n",
       "<style scoped>\n",
       "    .dataframe tbody tr th:only-of-type {\n",
       "        vertical-align: middle;\n",
       "    }\n",
       "\n",
       "    .dataframe tbody tr th {\n",
       "        vertical-align: top;\n",
       "    }\n",
       "\n",
       "    .dataframe thead th {\n",
       "        text-align: right;\n",
       "    }\n",
       "</style>\n",
       "<table border=\"1\" class=\"dataframe\">\n",
       "  <thead>\n",
       "    <tr style=\"text-align: right;\">\n",
       "      <th></th>\n",
       "      <th>Feature1</th>\n",
       "      <th>Feature2</th>\n",
       "      <th>Feature3</th>\n",
       "      <th>Feature4</th>\n",
       "      <th>Target</th>\n",
       "    </tr>\n",
       "  </thead>\n",
       "  <tbody>\n",
       "    <tr>\n",
       "      <th>0</th>\n",
       "      <td>C</td>\n",
       "      <td>Y</td>\n",
       "      <td>Medium</td>\n",
       "      <td>Yes</td>\n",
       "      <td>Class1</td>\n",
       "    </tr>\n",
       "    <tr>\n",
       "      <th>1</th>\n",
       "      <td>A</td>\n",
       "      <td>X</td>\n",
       "      <td>Low</td>\n",
       "      <td>No</td>\n",
       "      <td>Class1</td>\n",
       "    </tr>\n",
       "    <tr>\n",
       "      <th>2</th>\n",
       "      <td>A</td>\n",
       "      <td>X</td>\n",
       "      <td>Medium</td>\n",
       "      <td>Yes</td>\n",
       "      <td>Class2</td>\n",
       "    </tr>\n",
       "    <tr>\n",
       "      <th>3</th>\n",
       "      <td>C</td>\n",
       "      <td>X</td>\n",
       "      <td>High</td>\n",
       "      <td>No</td>\n",
       "      <td>Class1</td>\n",
       "    </tr>\n",
       "    <tr>\n",
       "      <th>4</th>\n",
       "      <td>B</td>\n",
       "      <td>X</td>\n",
       "      <td>Medium</td>\n",
       "      <td>No</td>\n",
       "      <td>Class1</td>\n",
       "    </tr>\n",
       "  </tbody>\n",
       "</table>\n",
       "</div>"
      ],
      "text/plain": [
       "  Feature1 Feature2 Feature3 Feature4  Target\n",
       "0        C        Y   Medium      Yes  Class1\n",
       "1        A        X      Low       No  Class1\n",
       "2        A        X   Medium      Yes  Class2\n",
       "3        C        X     High       No  Class1\n",
       "4        B        X   Medium       No  Class1"
      ]
     },
     "execution_count": 3,
     "metadata": {},
     "output_type": "execute_result"
    }
   ],
   "source": [
    "df = pd.read_csv('classification_dataset.csv')\n",
    "df.head()"
   ]
  },
  {
   "cell_type": "code",
   "execution_count": 4,
   "metadata": {},
   "outputs": [
    {
     "name": "stdout",
     "output_type": "stream",
     "text": [
      "<class 'pandas.core.frame.DataFrame'>\n",
      "RangeIndex: 15 entries, 0 to 14\n",
      "Data columns (total 5 columns):\n",
      " #   Column    Non-Null Count  Dtype \n",
      "---  ------    --------------  ----- \n",
      " 0   Feature1  15 non-null     object\n",
      " 1   Feature2  15 non-null     object\n",
      " 2   Feature3  15 non-null     object\n",
      " 3   Feature4  15 non-null     object\n",
      " 4   Target    15 non-null     object\n",
      "dtypes: object(5)\n",
      "memory usage: 728.0+ bytes\n"
     ]
    }
   ],
   "source": [
    "df.info()"
   ]
  },
  {
   "cell_type": "code",
   "execution_count": 7,
   "metadata": {},
   "outputs": [],
   "source": [
    "target_values = df['Target'].value_counts()\n",
    "total = len(df)"
   ]
  },
  {
   "cell_type": "code",
   "execution_count": 8,
   "metadata": {},
   "outputs": [
    {
     "name": "stdout",
     "output_type": "stream",
     "text": [
      "Initial Entropy: 0.9967916319816366\n"
     ]
    }
   ],
   "source": [
    "entropy = -sum((count / total) * log2(count / total) for count in target_values)\n",
    "print(f\"Initial Entropy: {entropy}\")"
   ]
  },
  {
   "cell_type": "code",
   "execution_count": 9,
   "metadata": {},
   "outputs": [
    {
     "name": "stdout",
     "output_type": "stream",
     "text": [
      "Information Gain for Feature1: 0.07724537168300172\n",
      "Information Gain for Feature2: 0.31788806997878927\n",
      "Information Gain for Feature3: 0.036366834877189946\n",
      "Information Gain for Feature4: 0.0036851684989858136\n"
     ]
    }
   ],
   "source": [
    "for feature in df.columns[:-1]:\n",
    "    feature_entropy = 0\n",
    "    for value in df[feature].unique():\n",
    "        subset = df[df[feature] == value]\n",
    "        subset_target_values = subset['Target'].value_counts()\n",
    "        subset_total = len(subset)\n",
    "        subset_entropy = -sum((count / subset_total) * log2(count / subset_total) for count in subset_target_values)\n",
    "        feature_entropy += (subset_total / total) * subset_entropy\n",
    "\n",
    "    info_gain = entropy - feature_entropy\n",
    "    print(f\"Information Gain for {feature}: {info_gain}\")"
   ]
  },
  {
   "cell_type": "code",
   "execution_count": 10,
   "metadata": {},
   "outputs": [
    {
     "name": "stdout",
     "output_type": "stream",
     "text": [
      "Root Node: Feature2\n"
     ]
    }
   ],
   "source": [
    "root_node = None\n",
    "max_info_gain = -1\n",
    "\n",
    "for feature in df.columns[:-1]:\n",
    "    feature_entropy = 0\n",
    "    for value in df[feature].unique():\n",
    "        subset = df[df[feature] == value]\n",
    "        subset_target_values = subset['Target'].value_counts()\n",
    "        subset_total = len(subset)\n",
    "        subset_entropy = -sum((count / subset_total) * log2(count / subset_total) for count in subset_target_values)\n",
    "        feature_entropy += (subset_total / total) * subset_entropy\n",
    "\n",
    "    info_gain = entropy - feature_entropy\n",
    "    if info_gain > max_info_gain:\n",
    "        max_info_gain = info_gain\n",
    "        root_node = feature\n",
    "\n",
    "print(f\"Root Node: {root_node}\")"
   ]
  },
  {
   "cell_type": "code",
   "execution_count": 12,
   "metadata": {},
   "outputs": [
    {
     "name": "stdout",
     "output_type": "stream",
     "text": [
      "Gini Index for Feature1: 0.45714285714285724\n",
      "Gini Index for Feature2: 0.3047619047619048\n",
      "Gini Index for Feature3: 0.47301587301587306\n",
      "Gini Index for Feature4: 0.49523809523809526\n"
     ]
    }
   ],
   "source": [
    "for feature in df.columns[:-1]:\n",
    "    gini = 0\n",
    "    for value in df[feature].unique():\n",
    "        subset = df[df[feature] == value]\n",
    "        subset_total = len(subset)\n",
    "        subset_target_values = subset['Target'].value_counts(normalize=True)\n",
    "        subset_gini = 1 - sum((prob ** 2) for prob in subset_target_values)\n",
    "        gini += (subset_total / total) * subset_gini\n",
    "\n",
    "    print(f\"Gini Index for {feature}: {gini}\")"
   ]
  },
  {
   "cell_type": "code",
   "execution_count": 3,
   "metadata": {},
   "outputs": [
    {
     "data": {
      "text/html": [
       "<div>\n",
       "<style scoped>\n",
       "    .dataframe tbody tr th:only-of-type {\n",
       "        vertical-align: middle;\n",
       "    }\n",
       "\n",
       "    .dataframe tbody tr th {\n",
       "        vertical-align: top;\n",
       "    }\n",
       "\n",
       "    .dataframe thead th {\n",
       "        text-align: right;\n",
       "    }\n",
       "</style>\n",
       "<table border=\"1\" class=\"dataframe\">\n",
       "  <thead>\n",
       "    <tr style=\"text-align: right;\">\n",
       "      <th></th>\n",
       "      <th>Day</th>\n",
       "      <th>Outlook</th>\n",
       "      <th>Temp.</th>\n",
       "      <th>Humidity</th>\n",
       "      <th>Wind</th>\n",
       "      <th>Golf Players</th>\n",
       "    </tr>\n",
       "  </thead>\n",
       "  <tbody>\n",
       "    <tr>\n",
       "      <th>0</th>\n",
       "      <td>1</td>\n",
       "      <td>Sunny</td>\n",
       "      <td>Hot</td>\n",
       "      <td>High</td>\n",
       "      <td>Weak</td>\n",
       "      <td>25</td>\n",
       "    </tr>\n",
       "    <tr>\n",
       "      <th>1</th>\n",
       "      <td>2</td>\n",
       "      <td>Sunny</td>\n",
       "      <td>Hot</td>\n",
       "      <td>High</td>\n",
       "      <td>Strong</td>\n",
       "      <td>30</td>\n",
       "    </tr>\n",
       "    <tr>\n",
       "      <th>2</th>\n",
       "      <td>3</td>\n",
       "      <td>Overcast</td>\n",
       "      <td>Hot</td>\n",
       "      <td>High</td>\n",
       "      <td>Weak</td>\n",
       "      <td>46</td>\n",
       "    </tr>\n",
       "    <tr>\n",
       "      <th>3</th>\n",
       "      <td>4</td>\n",
       "      <td>Rain</td>\n",
       "      <td>Mild</td>\n",
       "      <td>High</td>\n",
       "      <td>Weak</td>\n",
       "      <td>45</td>\n",
       "    </tr>\n",
       "    <tr>\n",
       "      <th>4</th>\n",
       "      <td>5</td>\n",
       "      <td>Rain</td>\n",
       "      <td>Cool</td>\n",
       "      <td>Normal</td>\n",
       "      <td>Weak</td>\n",
       "      <td>52</td>\n",
       "    </tr>\n",
       "  </tbody>\n",
       "</table>\n",
       "</div>"
      ],
      "text/plain": [
       "   Day   Outlook Temp. Humidity    Wind  Golf Players\n",
       "0    1     Sunny   Hot     High    Weak            25\n",
       "1    2     Sunny   Hot     High  Strong            30\n",
       "2    3  Overcast   Hot     High    Weak            46\n",
       "3    4      Rain  Mild     High    Weak            45\n",
       "4    5      Rain  Cool   Normal    Weak            52"
      ]
     },
     "execution_count": 3,
     "metadata": {},
     "output_type": "execute_result"
    }
   ],
   "source": [
    "df = pd.read_csv('golf_players.csv')\n",
    "df.head()"
   ]
  },
  {
   "cell_type": "code",
   "execution_count": 4,
   "metadata": {},
   "outputs": [],
   "source": [
    "target_values = df['Golf Players']\n",
    "total = len(target_values)"
   ]
  },
  {
   "cell_type": "code",
   "execution_count": 7,
   "metadata": {},
   "outputs": [],
   "source": [
    "bins = [0, 40, np.inf]\n",
    "labels = ['Low', 'High']\n",
    "df['Golf Players Category'] = pd.cut(df['Golf Players'], bins=bins, labels=labels)"
   ]
  },
  {
   "cell_type": "code",
   "execution_count": 8,
   "metadata": {},
   "outputs": [
    {
     "name": "stdout",
     "output_type": "stream",
     "text": [
      "Initial Entropy: 0.9852281360342516\n"
     ]
    }
   ],
   "source": [
    "category_counts = df['Golf Players Category'].value_counts()\n",
    "initial_entropy = -sum((count / total) * log2(count / total) for count in category_counts)\n",
    "print(f\"Initial Entropy: {initial_entropy}\")"
   ]
  },
  {
   "cell_type": "code",
   "execution_count": 11,
   "metadata": {},
   "outputs": [
    {
     "name": "stdout",
     "output_type": "stream",
     "text": [
      "Information Gain for Outlook: 0.38062860412638344\n",
      "Information Gain for Temp.: 0.02024420715375619\n",
      "Information Gain for Humidity: 0.06105378373381032\n",
      "Information Gain for Wind: 0.011265848648557286\n",
      "Root Node: Outlook\n"
     ]
    }
   ],
   "source": [
    "root_node = None\n",
    "max_info_gain = -1\n",
    "\n",
    "for feature in df.columns[1:-2]:\n",
    "    feature_entropy = 0\n",
    "    for value in df[feature].unique():\n",
    "        subset = df[df[feature] == value]\n",
    "        subset_total = len(subset)\n",
    "        subset_counts = subset['Golf Players Category'].value_counts()\n",
    "        subset_entropy = -sum((count / subset_total) * log2(count / subset_total) \n",
    "                      for count in subset_counts if count > 0)\n",
    "        feature_entropy += (subset_total / total) * subset_entropy\n",
    "\n",
    "    info_gain = initial_entropy - feature_entropy\n",
    "    print(f\"Information Gain for {feature}: {info_gain}\")\n",
    "\n",
    "    if info_gain > max_info_gain:\n",
    "        max_info_gain = info_gain\n",
    "        root_node = feature\n",
    "\n",
    "print(f\"Root Node: {root_node}\")"
   ]
  }
 ],
 "metadata": {
  "kernelspec": {
   "display_name": ".venv",
   "language": "python",
   "name": "python3"
  },
  "language_info": {
   "codemirror_mode": {
    "name": "ipython",
    "version": 3
   },
   "file_extension": ".py",
   "mimetype": "text/x-python",
   "name": "python",
   "nbconvert_exporter": "python",
   "pygments_lexer": "ipython3",
   "version": "3.11.0"
  }
 },
 "nbformat": 4,
 "nbformat_minor": 2
}
