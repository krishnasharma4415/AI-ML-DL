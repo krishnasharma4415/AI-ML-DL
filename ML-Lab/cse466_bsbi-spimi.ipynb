{
 "cells": [
  {
   "cell_type": "markdown",
   "id": "fcec9086",
   "metadata": {},
   "source": [
    "Krishna Sharma | AP22110010128"
   ]
  },
  {
   "cell_type": "code",
   "execution_count": 1,
   "id": "8667f5c3",
   "metadata": {},
   "outputs": [],
   "source": [
    "documents = {\n",
    "    1: \"data algorithm structure\",\n",
    "    2: \"database query system\", \n",
    "    3: \"algorithm analysis optimization\",\n",
    "    4: \"machine learning data model\",\n",
    "    5: \"network protocol security\",\n",
    "    6: \"operating system process scheduling\",\n",
    "    7: \"computer architecture hardware\",\n",
    "    8: \"data mining machine learning\",\n",
    "}"
   ]
  },
  {
   "cell_type": "markdown",
   "id": "3a362008",
   "metadata": {},
   "source": [
    "BSBI (Blocked Sort-Based Indexing)"
   ]
  },
  {
   "cell_type": "code",
   "execution_count": null,
   "id": "2ea32405",
   "metadata": {},
   "outputs": [
    {
     "name": "stdout",
     "output_type": "stream",
     "text": [
      "Term-DocID pairs: [('data', 1), ('algorithm', 1), ('structure', 1), ('database', 2), ('query', 2), ('system', 2), ('algorithm', 3), ('analysis', 3), ('optimization', 3), ('machine', 4), ('learning', 4), ('data', 4), ('model', 4), ('network', 5), ('protocol', 5), ('security', 5), ('operating', 6), ('system', 6), ('process', 6), ('scheduling', 6), ('computer', 7), ('architecture', 7), ('hardware', 7), ('data', 8), ('mining', 8), ('machine', 8), ('learning', 8)]\n",
      "Sorted pairs: [('algorithm', 1), ('algorithm', 3), ('analysis', 3), ('architecture', 7), ('computer', 7), ('data', 1), ('data', 4), ('data', 8), ('database', 2), ('hardware', 7), ('learning', 4), ('learning', 8), ('machine', 4), ('machine', 8), ('mining', 8), ('model', 4), ('network', 5), ('operating', 6), ('optimization', 3), ('process', 6), ('protocol', 5), ('query', 2), ('scheduling', 6), ('security', 5), ('structure', 1), ('system', 2), ('system', 6)]\n",
      "BSBI Index: {'algorithm': {1, 3}, 'analysis': {3}, 'architecture': {7}, 'computer': {7}, 'data': {8, 1, 4}, 'database': {2}, 'hardware': {7}, 'learning': {8, 4}, 'machine': {8, 4}, 'mining': {8}, 'model': {4}, 'network': {5}, 'operating': {6}, 'optimization': {3}, 'process': {6}, 'protocol': {5}, 'query': {2}, 'scheduling': {6}, 'security': {5}, 'structure': {1}, 'system': {2, 6}}\n"
     ]
    }
   ],
   "source": [
    "def bsbi_build_index(documents):\n",
    "    term_doc_pairs = []\n",
    "    for doc_id, text in documents.items():\n",
    "        for word in text.lower().split():\n",
    "            term_doc_pairs.append((word, doc_id))\n",
    "    \n",
    "    print(f\"Term-DocID pairs: {term_doc_pairs}\")\n",
    "    \n",
    "    term_doc_pairs.sort(key=lambda x: x[0])\n",
    "    print(f\"Sorted pairs: {term_doc_pairs}\")\n",
    "    \n",
    "    inverted_index = {}\n",
    "    for term, doc_id in term_doc_pairs:\n",
    "        if term not in inverted_index:\n",
    "            inverted_index[term] = set()\n",
    "        inverted_index[term].add(doc_id)\n",
    "    \n",
    "    return inverted_index\n",
    "\n",
    "bsbi_index = bsbi_build_index(documents)\n",
    "print(f\"BSBI Index: {dict(sorted(bsbi_index.items()))}\")"
   ]
  },
  {
   "cell_type": "markdown",
   "id": "1c075b2d",
   "metadata": {},
   "source": [
    "SPIMI (Single-Pass In-Memory Indexing)"
   ]
  },
  {
   "cell_type": "code",
   "execution_count": 6,
   "id": "5f10376d",
   "metadata": {},
   "outputs": [
    {
     "name": "stdout",
     "output_type": "stream",
     "text": [
      "1: 'data algorithm structure'\n",
      "  Index: {'algorithm': {1}, 'data': {1}, 'structure': {1}}\n",
      "2: 'database query system'\n",
      "  Index: {'algorithm': {1}, 'data': {1}, 'database': {2}, 'query': {2}, 'structure': {1}, 'system': {2}}\n",
      "3: 'algorithm analysis optimization'\n",
      "  Index: {'algorithm': {1, 3}, 'analysis': {3}, 'data': {1}, 'database': {2}, 'optimization': {3}, 'query': {2}, 'structure': {1}, 'system': {2}}\n",
      "4: 'machine learning data model'\n",
      "  Index: {'algorithm': {1, 3}, 'analysis': {3}, 'data': {1, 4}, 'database': {2}, 'learning': {4}, 'machine': {4}, 'model': {4}, 'optimization': {3}, 'query': {2}, 'structure': {1}, 'system': {2}}\n",
      "5: 'network protocol security'\n",
      "  Index: {'algorithm': {1, 3}, 'analysis': {3}, 'data': {1, 4}, 'database': {2}, 'learning': {4}, 'machine': {4}, 'model': {4}, 'network': {5}, 'optimization': {3}, 'protocol': {5}, 'query': {2}, 'security': {5}, 'structure': {1}, 'system': {2}}\n",
      "6: 'operating system process scheduling'\n",
      "  Index: {'algorithm': {1, 3}, 'analysis': {3}, 'data': {1, 4}, 'database': {2}, 'learning': {4}, 'machine': {4}, 'model': {4}, 'network': {5}, 'operating': {6}, 'optimization': {3}, 'process': {6}, 'protocol': {5}, 'query': {2}, 'scheduling': {6}, 'security': {5}, 'structure': {1}, 'system': {2, 6}}\n",
      "7: 'computer architecture hardware'\n",
      "  Index: {'algorithm': {1, 3}, 'analysis': {3}, 'architecture': {7}, 'computer': {7}, 'data': {1, 4}, 'database': {2}, 'hardware': {7}, 'learning': {4}, 'machine': {4}, 'model': {4}, 'network': {5}, 'operating': {6}, 'optimization': {3}, 'process': {6}, 'protocol': {5}, 'query': {2}, 'scheduling': {6}, 'security': {5}, 'structure': {1}, 'system': {2, 6}}\n",
      "8: 'data mining machine learning'\n",
      "  Index: {'algorithm': {1, 3}, 'analysis': {3}, 'architecture': {7}, 'computer': {7}, 'data': {8, 1, 4}, 'database': {2}, 'hardware': {7}, 'learning': {8, 4}, 'machine': {8, 4}, 'mining': {8}, 'model': {4}, 'network': {5}, 'operating': {6}, 'optimization': {3}, 'process': {6}, 'protocol': {5}, 'query': {2}, 'scheduling': {6}, 'security': {5}, 'structure': {1}, 'system': {2, 6}}\n",
      "\n",
      "Final SPIMI Index: {'algorithm': {1, 3}, 'analysis': {3}, 'architecture': {7}, 'computer': {7}, 'data': {8, 1, 4}, 'database': {2}, 'hardware': {7}, 'learning': {8, 4}, 'machine': {8, 4}, 'mining': {8}, 'model': {4}, 'network': {5}, 'operating': {6}, 'optimization': {3}, 'process': {6}, 'protocol': {5}, 'query': {2}, 'scheduling': {6}, 'security': {5}, 'structure': {1}, 'system': {2, 6}}\n"
     ]
    }
   ],
   "source": [
    "def spimi_build_index(documents):\n",
    "    inverted_index = {}\n",
    "    \n",
    "    for doc_id, text in documents.items():\n",
    "        print(f\"{doc_id}: '{text}'\")\n",
    "        \n",
    "        for word in text.lower().split():\n",
    "            if word not in inverted_index:\n",
    "                inverted_index[word] = set()\n",
    "            inverted_index[word].add(doc_id)\n",
    "        \n",
    "        print(f\"  Index: {dict(sorted(inverted_index.items()))}\")\n",
    "    \n",
    "    return inverted_index\n",
    "\n",
    "spimi_index = spimi_build_index(documents)\n",
    "print(f\"\\nFinal SPIMI Index: {dict(sorted(spimi_index.items()))}\")"
   ]
  },
  {
   "cell_type": "markdown",
   "id": "50a757b6",
   "metadata": {},
   "source": [
    "Boolean Query Implementation"
   ]
  },
  {
   "cell_type": "code",
   "execution_count": 7,
   "id": "4cd075c3",
   "metadata": {},
   "outputs": [],
   "source": [
    "def boolean_query(query, inverted_index, doc_ids):\n",
    "    tokens = query.lower().split()\n",
    "    if not tokens:\n",
    "        return set()\n",
    "    \n",
    "    all_docs = set(doc_ids)\n",
    "    \n",
    "    if tokens[0] == 'not' and len(tokens) > 1:\n",
    "        result = all_docs - inverted_index.get(tokens[1], set())\n",
    "        i = 2\n",
    "    else:\n",
    "        result = inverted_index.get(tokens[0], set())\n",
    "        i = 1\n",
    "    \n",
    "    while i < len(tokens):\n",
    "        if tokens[i] == 'and' and i + 1 < len(tokens):\n",
    "            if tokens[i + 1] == 'not' and i + 2 < len(tokens):\n",
    "                term = all_docs - inverted_index.get(tokens[i + 2], set())\n",
    "                i += 3\n",
    "            else:\n",
    "                term = inverted_index.get(tokens[i + 1], set())\n",
    "                i += 2\n",
    "            result = result & term\n",
    "            \n",
    "        elif tokens[i] == 'or' and i + 1 < len(tokens):\n",
    "            if tokens[i + 1] == 'not' and i + 2 < len(tokens):\n",
    "                term = all_docs - inverted_index.get(tokens[i + 2], set())\n",
    "                i += 3\n",
    "            else:\n",
    "                term = inverted_index.get(tokens[i + 1], set())\n",
    "                i += 2\n",
    "            result = result | term\n",
    "        else:\n",
    "            i += 1\n",
    "    \n",
    "    return result\n",
    "\n",
    "index = spimi_index"
   ]
  },
  {
   "cell_type": "code",
   "execution_count": 13,
   "id": "d9ee8c09",
   "metadata": {},
   "outputs": [
    {
     "name": "stdout",
     "output_type": "stream",
     "text": [
      "data AND algorithm   -> [1]\n",
      "machine OR learning  -> [4, 8]\n",
      "NOT security         -> [1, 2, 3, 4, 6, 7, 8]\n"
     ]
    }
   ],
   "source": [
    "queries_1 = [\n",
    "    \"data AND algorithm\",\n",
    "    \"machine OR learning\", \n",
    "    \"NOT security\"\n",
    "]\n",
    "\n",
    "for q in queries_1:\n",
    "    result = boolean_query(q, index, documents.keys())\n",
    "    print(f\"{q:20} -> {sorted(result)}\")"
   ]
  },
  {
   "cell_type": "code",
   "execution_count": 14,
   "id": "7d1e92d4",
   "metadata": {},
   "outputs": [
    {
     "name": "stdout",
     "output_type": "stream",
     "text": [
      "data AND NOT mining              -> [1, 4]\n",
      "algorithm OR system AND data     -> [1]\n",
      "machine AND learning OR analysis -> [3, 4, 8]\n"
     ]
    }
   ],
   "source": [
    "queries_2 = [\n",
    "    \"data AND NOT mining\",\n",
    "    \"algorithm OR system AND data\",\n",
    "    \"machine AND learning OR analysis\"\n",
    "]\n",
    "\n",
    "for q in queries_2:\n",
    "    result = boolean_query(q, index, documents.keys())\n",
    "    print(f\"{q:32} -> {sorted(result)}\")"
   ]
  },
  {
   "cell_type": "code",
   "execution_count": 15,
   "id": "117902e0",
   "metadata": {},
   "outputs": [
    {
     "name": "stdout",
     "output_type": "stream",
     "text": [
      "NOT algorithm AND system            -> [2, 6]\n",
      "learning OR security AND NOT data   -> [5]\n",
      "protocol AND security OR hardware   -> [5, 7]\n"
     ]
    }
   ],
   "source": [
    "queries_3 = [\n",
    "    \"NOT algorithm AND system\",\n",
    "    \"learning OR security AND NOT data\",\n",
    "    \"protocol AND security OR hardware\"\n",
    "]\n",
    "\n",
    "for q in queries_3:\n",
    "    result = boolean_query(q, index, documents.keys())\n",
    "    print(f\"{q:35} -> {sorted(result)}\")"
   ]
  }
 ],
 "metadata": {
  "kernelspec": {
   "display_name": ".venv",
   "language": "python",
   "name": "python3"
  },
  "language_info": {
   "codemirror_mode": {
    "name": "ipython",
    "version": 3
   },
   "file_extension": ".py",
   "mimetype": "text/x-python",
   "name": "python",
   "nbconvert_exporter": "python",
   "pygments_lexer": "ipython3",
   "version": "3.11.0"
  }
 },
 "nbformat": 4,
 "nbformat_minor": 5
}
