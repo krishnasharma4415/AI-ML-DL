{
 "cells": [
  {
   "cell_type": "markdown",
   "id": "c7708a15",
   "metadata": {},
   "source": [
    "Krishna Sharma | AP22110010128"
   ]
  },
  {
   "cell_type": "code",
   "execution_count": 27,
   "id": "ccf768d1",
   "metadata": {},
   "outputs": [],
   "source": [
    "documents = {\n",
    "    1: \"data algorithm structure\",\n",
    "    2: \"database query system\", \n",
    "    3: \"algorithm analysis optimization\",\n",
    "    4: \"machine learning data model\",\n",
    "    5: \"network protocol security\",\n",
    "    6: \"operating system process scheduling\",\n",
    "    7: \"computer architecture hardware\",\n",
    "    8: \"data mining machine learning\",\n",
    "}"
   ]
  },
  {
   "cell_type": "markdown",
   "id": "fea867cf",
   "metadata": {},
   "source": [
    "Dynamic Indexing"
   ]
  },
  {
   "cell_type": "code",
   "execution_count": 28,
   "id": "897674a8",
   "metadata": {},
   "outputs": [
    {
     "name": "stdout",
     "output_type": "stream",
     "text": [
      "Initial documents: {1: 'data algorithm structure', 2: 'database query system', 3: 'algorithm analysis optimization', 4: 'machine learning data model', 5: 'network protocol security', 6: 'operating system process scheduling', 7: 'computer architecture hardware', 8: 'data mining machine learning'}\n",
      "Initial index: {'algorithm': {1, 3}, 'analysis': {3}, 'architecture': {7}, 'computer': {7}, 'data': {8, 1, 4}, 'database': {2}, 'hardware': {7}, 'learning': {8, 4}, 'machine': {8, 4}, 'mining': {8}, 'model': {4}, 'network': {5}, 'operating': {6}, 'optimization': {3}, 'process': {6}, 'protocol': {5}, 'query': {2}, 'scheduling': {6}, 'security': {5}, 'structure': {1}, 'system': {2, 6}}\n"
     ]
    }
   ],
   "source": [
    "def build_initial_index(documents):\n",
    "    inverted_index = {}\n",
    "    for doc_id, text in documents.items():\n",
    "        for word in text.lower().split():\n",
    "            if word not in inverted_index:\n",
    "                inverted_index[word] = set()\n",
    "            inverted_index[word].add(doc_id)\n",
    "\n",
    "    print(f\"Initial documents: {documents}\")\n",
    "    print(f\"Initial index: {dict(sorted(inverted_index.items()))}\")\n",
    "    return inverted_index\n",
    "    \n",
    "inverted_index = build_initial_index(documents)"
   ]
  },
  {
   "cell_type": "code",
   "execution_count": 29,
   "id": "14684c72",
   "metadata": {},
   "outputs": [],
   "source": [
    "def add(doc_id, text, documents, inverted_index):\n",
    "    print(f\"\\nADDING Document {doc_id}: '{text}'\")\n",
    "    \n",
    "    documents[doc_id] = text\n",
    "    \n",
    "    for word in text.lower().split():\n",
    "        if word not in inverted_index:\n",
    "            inverted_index[word] = set()\n",
    "        inverted_index[word].add(doc_id)\n",
    "    \n",
    "    print(f\"Updated documents: {documents}\")\n",
    "    print(f\"Updated index: {dict(sorted(inverted_index.items()))}\")"
   ]
  },
  {
   "cell_type": "code",
   "execution_count": 30,
   "id": "56ff3c80",
   "metadata": {},
   "outputs": [],
   "source": [
    "def update(doc_id, new_text, documents, inverted_index):\n",
    "    print(f\"\\nUPDATING Document {doc_id}: '{new_text}'\")\n",
    "    \n",
    "    if doc_id in documents:\n",
    "        old_text = documents[doc_id]\n",
    "        print(f\"Old text: '{old_text}'\")\n",
    "        \n",
    "        for word in old_text.lower().split():\n",
    "            if word in inverted_index:\n",
    "                inverted_index[word].discard(doc_id)\n",
    "                if not inverted_index[word]:\n",
    "                    del inverted_index[word]\n",
    "        \n",
    "        documents[doc_id] = new_text\n",
    "        for word in new_text.lower().split():\n",
    "            if word not in inverted_index:\n",
    "                inverted_index[word] = set()\n",
    "            inverted_index[word].add(doc_id)\n",
    "        \n",
    "        print(f\"Updated documents: {documents}\")\n",
    "        print(f\"Updated index: {dict(sorted(inverted_index.items()))}\")\n",
    "    else:\n",
    "        print(f\"Document {doc_id} not found!\")"
   ]
  },
  {
   "cell_type": "code",
   "execution_count": 31,
   "id": "0f1d2412",
   "metadata": {},
   "outputs": [],
   "source": [
    "def delete(doc_id, documents, inverted_index):\n",
    "    print(f\"\\nDELETING Document {doc_id}\")\n",
    "    \n",
    "    if doc_id in documents:\n",
    "        text = documents[doc_id]\n",
    "        print(f\"Deleting: '{text}'\")\n",
    "        \n",
    "        del documents[doc_id]\n",
    "        \n",
    "        for word in text.lower().split():\n",
    "            if word in inverted_index:\n",
    "                inverted_index[word].discard(doc_id)\n",
    "                if not inverted_index[word]:\n",
    "                    del inverted_index[word]\n",
    "        \n",
    "        print(f\"Updated documents: {documents}\")\n",
    "        print(f\"Updated index: {dict(sorted(inverted_index.items()))}\")\n",
    "    else:\n",
    "        print(f\"Document {doc_id} not found!\")"
   ]
  },
  {
   "cell_type": "code",
   "execution_count": 32,
   "id": "2ca1ef33",
   "metadata": {},
   "outputs": [
    {
     "name": "stdout",
     "output_type": "stream",
     "text": [
      "\n",
      "ADDING Document 9: 'artificial intelligence neural networks'\n",
      "Updated documents: {1: 'data algorithm structure', 2: 'database query system', 3: 'algorithm analysis optimization', 4: 'machine learning data model', 5: 'network protocol security', 6: 'operating system process scheduling', 7: 'computer architecture hardware', 8: 'data mining machine learning', 9: 'artificial intelligence neural networks'}\n",
      "Updated index: {'algorithm': {1, 3}, 'analysis': {3}, 'architecture': {7}, 'artificial': {9}, 'computer': {7}, 'data': {8, 1, 4}, 'database': {2}, 'hardware': {7}, 'intelligence': {9}, 'learning': {8, 4}, 'machine': {8, 4}, 'mining': {8}, 'model': {4}, 'network': {5}, 'networks': {9}, 'neural': {9}, 'operating': {6}, 'optimization': {3}, 'process': {6}, 'protocol': {5}, 'query': {2}, 'scheduling': {6}, 'security': {5}, 'structure': {1}, 'system': {2, 6}}\n"
     ]
    }
   ],
   "source": [
    "add(9, \"artificial intelligence neural networks\", documents, inverted_index)"
   ]
  },
  {
   "cell_type": "code",
   "execution_count": 33,
   "id": "e8d2b828",
   "metadata": {},
   "outputs": [
    {
     "name": "stdout",
     "output_type": "stream",
     "text": [
      "\n",
      "UPDATING Document 5: 'cybersecurity network protection firewall'\n",
      "Old text: 'network protocol security'\n",
      "Updated documents: {1: 'data algorithm structure', 2: 'database query system', 3: 'algorithm analysis optimization', 4: 'machine learning data model', 5: 'cybersecurity network protection firewall', 6: 'operating system process scheduling', 7: 'computer architecture hardware', 8: 'data mining machine learning', 9: 'artificial intelligence neural networks'}\n",
      "Updated index: {'algorithm': {1, 3}, 'analysis': {3}, 'architecture': {7}, 'artificial': {9}, 'computer': {7}, 'cybersecurity': {5}, 'data': {8, 1, 4}, 'database': {2}, 'firewall': {5}, 'hardware': {7}, 'intelligence': {9}, 'learning': {8, 4}, 'machine': {8, 4}, 'mining': {8}, 'model': {4}, 'network': {5}, 'networks': {9}, 'neural': {9}, 'operating': {6}, 'optimization': {3}, 'process': {6}, 'protection': {5}, 'query': {2}, 'scheduling': {6}, 'structure': {1}, 'system': {2, 6}}\n"
     ]
    }
   ],
   "source": [
    "update(5, \"cybersecurity network protection firewall\", documents, inverted_index)"
   ]
  },
  {
   "cell_type": "code",
   "execution_count": 34,
   "id": "ea5c04b8",
   "metadata": {},
   "outputs": [
    {
     "name": "stdout",
     "output_type": "stream",
     "text": [
      "\n",
      "ADDING Document 10: 'database optimization performance tuning'\n",
      "Updated documents: {1: 'data algorithm structure', 2: 'database query system', 3: 'algorithm analysis optimization', 4: 'machine learning data model', 5: 'cybersecurity network protection firewall', 6: 'operating system process scheduling', 7: 'computer architecture hardware', 8: 'data mining machine learning', 9: 'artificial intelligence neural networks', 10: 'database optimization performance tuning'}\n",
      "Updated index: {'algorithm': {1, 3}, 'analysis': {3}, 'architecture': {7}, 'artificial': {9}, 'computer': {7}, 'cybersecurity': {5}, 'data': {8, 1, 4}, 'database': {2, 10}, 'firewall': {5}, 'hardware': {7}, 'intelligence': {9}, 'learning': {8, 4}, 'machine': {8, 4}, 'mining': {8}, 'model': {4}, 'network': {5}, 'networks': {9}, 'neural': {9}, 'operating': {6}, 'optimization': {10, 3}, 'performance': {10}, 'process': {6}, 'protection': {5}, 'query': {2}, 'scheduling': {6}, 'structure': {1}, 'system': {2, 6}, 'tuning': {10}}\n"
     ]
    }
   ],
   "source": [
    "add(10, \"database optimization performance tuning\", documents, inverted_index)"
   ]
  },
  {
   "cell_type": "code",
   "execution_count": 35,
   "id": "c629981f",
   "metadata": {},
   "outputs": [
    {
     "name": "stdout",
     "output_type": "stream",
     "text": [
      "\n",
      "DELETING Document 7\n",
      "Deleting: 'computer architecture hardware'\n",
      "Updated documents: {1: 'data algorithm structure', 2: 'database query system', 3: 'algorithm analysis optimization', 4: 'machine learning data model', 5: 'cybersecurity network protection firewall', 6: 'operating system process scheduling', 8: 'data mining machine learning', 9: 'artificial intelligence neural networks', 10: 'database optimization performance tuning'}\n",
      "Updated index: {'algorithm': {1, 3}, 'analysis': {3}, 'artificial': {9}, 'cybersecurity': {5}, 'data': {8, 1, 4}, 'database': {2, 10}, 'firewall': {5}, 'intelligence': {9}, 'learning': {8, 4}, 'machine': {8, 4}, 'mining': {8}, 'model': {4}, 'network': {5}, 'networks': {9}, 'neural': {9}, 'operating': {6}, 'optimization': {10, 3}, 'performance': {10}, 'process': {6}, 'protection': {5}, 'query': {2}, 'scheduling': {6}, 'structure': {1}, 'system': {2, 6}, 'tuning': {10}}\n"
     ]
    }
   ],
   "source": [
    "delete(7, documents, inverted_index)"
   ]
  },
  {
   "cell_type": "code",
   "execution_count": 36,
   "id": "1e8fd1a1",
   "metadata": {},
   "outputs": [
    {
     "name": "stdout",
     "output_type": "stream",
     "text": [
      "\n",
      "UPDATING Document 3: 'advanced algorithm complexity analysis'\n",
      "Old text: 'algorithm analysis optimization'\n",
      "Updated documents: {1: 'data algorithm structure', 2: 'database query system', 3: 'advanced algorithm complexity analysis', 4: 'machine learning data model', 5: 'cybersecurity network protection firewall', 6: 'operating system process scheduling', 8: 'data mining machine learning', 9: 'artificial intelligence neural networks', 10: 'database optimization performance tuning'}\n",
      "Updated index: {'advanced': {3}, 'algorithm': {1, 3}, 'analysis': {3}, 'artificial': {9}, 'complexity': {3}, 'cybersecurity': {5}, 'data': {8, 1, 4}, 'database': {2, 10}, 'firewall': {5}, 'intelligence': {9}, 'learning': {8, 4}, 'machine': {8, 4}, 'mining': {8}, 'model': {4}, 'network': {5}, 'networks': {9}, 'neural': {9}, 'operating': {6}, 'optimization': {10}, 'performance': {10}, 'process': {6}, 'protection': {5}, 'query': {2}, 'scheduling': {6}, 'structure': {1}, 'system': {2, 6}, 'tuning': {10}}\n"
     ]
    }
   ],
   "source": [
    "update(3, \"advanced algorithm complexity analysis\", documents, inverted_index)"
   ]
  },
  {
   "cell_type": "markdown",
   "id": "b738915f",
   "metadata": {},
   "source": [
    "Boolean Query Implementation"
   ]
  },
  {
   "cell_type": "code",
   "execution_count": 38,
   "id": "c63464b8",
   "metadata": {},
   "outputs": [],
   "source": [
    "def boolean_query(query, inverted_index, doc_ids):\n",
    "    tokens = query.lower().split()\n",
    "    if not tokens:\n",
    "        return set()\n",
    "    \n",
    "    all_docs = set(doc_ids)\n",
    "    \n",
    "    if tokens[0] == 'not' and len(tokens) > 1:\n",
    "        result = all_docs - inverted_index.get(tokens[1], set())\n",
    "        i = 2\n",
    "    else:\n",
    "        result = inverted_index.get(tokens[0], set())\n",
    "        i = 1\n",
    "    \n",
    "    while i < len(tokens):\n",
    "        if tokens[i] == 'and' and i + 1 < len(tokens):\n",
    "            if tokens[i + 1] == 'not' and i + 2 < len(tokens):\n",
    "                term = all_docs - inverted_index.get(tokens[i + 2], set())\n",
    "                i += 3\n",
    "            else:\n",
    "                term = inverted_index.get(tokens[i + 1], set())\n",
    "                i += 2\n",
    "            result = result & term\n",
    "            \n",
    "        elif tokens[i] == 'or' and i + 1 < len(tokens):\n",
    "            if tokens[i + 1] == 'not' and i + 2 < len(tokens):\n",
    "                term = all_docs - inverted_index.get(tokens[i + 2], set())\n",
    "                i += 3\n",
    "            else:\n",
    "                term = inverted_index.get(tokens[i + 1], set())\n",
    "                i += 2\n",
    "            result = result | term\n",
    "        else:\n",
    "            i += 1\n",
    "    \n",
    "    return result"
   ]
  },
  {
   "cell_type": "code",
   "execution_count": 41,
   "id": "e78a1989",
   "metadata": {},
   "outputs": [
    {
     "name": "stdout",
     "output_type": "stream",
     "text": [
      "\n",
      "Current Documents after Dynamic Operations:\n",
      "  1: 'data algorithm structure'\n",
      "  2: 'database query system'\n",
      "  3: 'advanced algorithm complexity analysis'\n",
      "  4: 'machine learning data model'\n",
      "  5: 'cybersecurity network protection firewall'\n",
      "  6: 'operating system process scheduling'\n",
      "  8: 'data mining machine learning'\n",
      "  9: 'artificial intelligence neural networks'\n",
      "  10: 'database optimization performance tuning'\n"
     ]
    }
   ],
   "source": [
    "print(f\"\\nCurrent Documents after Dynamic Operations:\")\n",
    "for doc_id, text in sorted(documents.items()):\n",
    "    print(f\"  {doc_id}: '{text}'\")"
   ]
  },
  {
   "cell_type": "code",
   "execution_count": 42,
   "id": "f0bb9203",
   "metadata": {},
   "outputs": [
    {
     "name": "stdout",
     "output_type": "stream",
     "text": [
      "\n",
      "Current Index after Dynamic Operations:\n",
      "  advanced: [3]\n",
      "  algorithm: [1, 3]\n",
      "  analysis: [3]\n",
      "  artificial: [9]\n",
      "  complexity: [3]\n",
      "  cybersecurity: [5]\n",
      "  data: [1, 4, 8]\n",
      "  database: [2, 10]\n",
      "  firewall: [5]\n",
      "  intelligence: [9]\n",
      "  learning: [4, 8]\n",
      "  machine: [4, 8]\n",
      "  mining: [8]\n",
      "  model: [4]\n",
      "  network: [5]\n",
      "  networks: [9]\n",
      "  neural: [9]\n",
      "  operating: [6]\n",
      "  optimization: [10]\n",
      "  performance: [10]\n",
      "  process: [6]\n",
      "  protection: [5]\n",
      "  query: [2]\n",
      "  scheduling: [6]\n",
      "  structure: [1]\n",
      "  system: [2, 6]\n",
      "  tuning: [10]\n"
     ]
    }
   ],
   "source": [
    "print(f\"\\nCurrent Index after Dynamic Operations:\")\n",
    "for term, doc_set in sorted(inverted_index.items()):\n",
    "    print(f\"  {term}: {sorted(doc_set)}\")"
   ]
  },
  {
   "cell_type": "code",
   "execution_count": 43,
   "id": "70a5fa86",
   "metadata": {},
   "outputs": [
    {
     "name": "stdout",
     "output_type": "stream",
     "text": [
      "algorithm AND data   -> [1]\n",
      "    Doc 1: 'data algorithm structure'\n",
      "network OR security  -> [5]\n",
      "    Doc 5: 'cybersecurity network protection firewall'\n",
      "NOT machine          -> [1, 2, 3, 5, 6, 9, 10]\n",
      "    Doc 1: 'data algorithm structure'\n",
      "    Doc 2: 'database query system'\n",
      "    Doc 3: 'advanced algorithm complexity analysis'\n",
      "    Doc 5: 'cybersecurity network protection firewall'\n",
      "    Doc 6: 'operating system process scheduling'\n",
      "    Doc 9: 'artificial intelligence neural networks'\n",
      "    Doc 10: 'database optimization performance tuning'\n"
     ]
    }
   ],
   "source": [
    "queries = [\n",
    "    \"algorithm AND data\",\n",
    "    \"network OR security\", \n",
    "    \"NOT machine\"\n",
    "]\n",
    "\n",
    "for q in queries:\n",
    "    result = boolean_query(q, inverted_index, documents.keys())\n",
    "    print(f\"{q:20} -> {sorted(result)}\")\n",
    "    for doc_id in sorted(result):\n",
    "        print(f\"    Doc {doc_id}: '{documents[doc_id]}'\")"
   ]
  },
  {
   "cell_type": "code",
   "execution_count": 44,
   "id": "2fdf5e09",
   "metadata": {},
   "outputs": [
    {
     "name": "stdout",
     "output_type": "stream",
     "text": [
      "\n",
      "Query Set 2 - New Terms from Dynamic Updates:\n",
      "artificial AND intelligence -> [9]\n",
      "    Doc 9: 'artificial intelligence neural networks'\n",
      "cybersecurity OR firewall -> [5]\n",
      "    Doc 5: 'cybersecurity network protection firewall'\n",
      "optimization AND performance -> [10]\n",
      "    Doc 10: 'database optimization performance tuning'\n"
     ]
    }
   ],
   "source": [
    "queries = [\n",
    "    \"artificial AND intelligence\",\n",
    "    \"cybersecurity OR firewall\",\n",
    "    \"optimization AND performance\"\n",
    "]\n",
    "\n",
    "print(\"\\nQuery Set 2 - New Terms from Dynamic Updates:\")\n",
    "for q in queries:\n",
    "    result = boolean_query(q, inverted_index, documents.keys())\n",
    "    print(f\"{q:25} -> {sorted(result)}\")\n",
    "    for doc_id in sorted(result):\n",
    "        print(f\"    Doc {doc_id}: '{documents[doc_id]}'\")"
   ]
  },
  {
   "cell_type": "code",
   "execution_count": 45,
   "id": "a2619703",
   "metadata": {},
   "outputs": [
    {
     "name": "stdout",
     "output_type": "stream",
     "text": [
      "\n",
      "Query Set 3 - Complex Operations:\n",
      "algorithm AND NOT analysis          -> [1]\n",
      "    Doc 1: 'data algorithm structure'\n",
      "data OR intelligence AND NOT mining -> [1, 4, 9]\n",
      "    Doc 1: 'data algorithm structure'\n",
      "    Doc 4: 'machine learning data model'\n",
      "    Doc 9: 'artificial intelligence neural networks'\n",
      "network AND cybersecurity OR database -> [2, 5, 10]\n",
      "    Doc 2: 'database query system'\n",
      "    Doc 5: 'cybersecurity network protection firewall'\n",
      "    Doc 10: 'database optimization performance tuning'\n"
     ]
    }
   ],
   "source": [
    "queries = [\n",
    "    \"algorithm AND NOT analysis\",\n",
    "    \"data OR intelligence AND NOT mining\",\n",
    "    \"network AND cybersecurity OR database\"\n",
    "]\n",
    "\n",
    "print(\"\\nQuery Set 3 - Complex Operations:\")\n",
    "for q in queries:\n",
    "    result = boolean_query(q, inverted_index, documents.keys())\n",
    "    print(f\"{q:35} -> {sorted(result)}\")\n",
    "    for doc_id in sorted(result):\n",
    "        print(f\"    Doc {doc_id}: '{documents[doc_id]}'\")"
   ]
  }
 ],
 "metadata": {
  "kernelspec": {
   "display_name": ".venv",
   "language": "python",
   "name": "python3"
  },
  "language_info": {
   "codemirror_mode": {
    "name": "ipython",
    "version": 3
   },
   "file_extension": ".py",
   "mimetype": "text/x-python",
   "name": "python",
   "nbconvert_exporter": "python",
   "pygments_lexer": "ipython3",
   "version": "3.11.0"
  }
 },
 "nbformat": 4,
 "nbformat_minor": 5
}
