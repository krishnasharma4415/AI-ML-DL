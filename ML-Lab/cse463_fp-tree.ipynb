{
 "cells": [
  {
   "cell_type": "code",
   "execution_count": 83,
   "metadata": {},
   "outputs": [],
   "source": [
    "import numpy as np\n",
    "import pandas as pd\n",
    "from collections import defaultdict"
   ]
  },
  {
   "cell_type": "code",
   "execution_count": 84,
   "metadata": {},
   "outputs": [],
   "source": [
    "transactions = [\n",
    "    ['I1', 'I2', 'I5'],\n",
    "    ['I2', 'I4'],\n",
    "    ['I2', 'I3'],\n",
    "    ['I1', 'I2', 'I4'],\n",
    "    ['I1', 'I3'],\n",
    "    ['I2', 'I3'],\n",
    "    ['I1', 'I3'],\n",
    "    ['I1', 'I2', 'I3', 'I5'],\n",
    "    ['I1', 'I2', 'I3']\n",
    "]"
   ]
  },
  {
   "cell_type": "code",
   "execution_count": 85,
   "metadata": {},
   "outputs": [],
   "source": [
    "min_support = 2 \n",
    "item_counts = defaultdict(int)"
   ]
  },
  {
   "cell_type": "code",
   "execution_count": 86,
   "metadata": {},
   "outputs": [],
   "source": [
    "for transaction in transactions:\n",
    "    for item in transaction:\n",
    "        item_counts[item] += 1"
   ]
  },
  {
   "cell_type": "code",
   "execution_count": 87,
   "metadata": {},
   "outputs": [],
   "source": [
    "frequent_items = set()\n",
    "for item, count in item_counts.items():\n",
    "    if count >= min_support:\n",
    "        frequent_items.add(item)"
   ]
  },
  {
   "cell_type": "code",
   "execution_count": 88,
   "metadata": {},
   "outputs": [],
   "source": [
    "sorted_transactions = []\n",
    "for transaction in transactions:\n",
    "    filtered_transaction = []\n",
    "    for item in transaction:\n",
    "        if item in frequent_items:\n",
    "            filtered_transaction.append(item)\n",
    "    sorted_transaction = sorted(filtered_transaction, key=lambda x: item_counts[x], reverse=True)\n",
    "    if len(sorted_transaction) > 0:\n",
    "        sorted_transactions.append(sorted_transaction)"
   ]
  },
  {
   "cell_type": "code",
   "execution_count": 89,
   "metadata": {},
   "outputs": [],
   "source": [
    "fp_tree = {'root': {}}\n",
    "header_table = defaultdict(list)\n",
    "\n",
    "for transaction in sorted_transactions:\n",
    "    current_node = fp_tree['root']\n",
    "    for item in transaction:\n",
    "        if item in current_node:\n",
    "            current_node[item]['count'] += 1\n",
    "        else:\n",
    "            current_node[item] = {'count': 1, 'children': {}}\n",
    "            header_table[item].append(current_node[item])\n",
    "        current_node = current_node[item]['children']"
   ]
  },
  {
   "cell_type": "code",
   "execution_count": 91,
   "metadata": {},
   "outputs": [],
   "source": [
    "def traverse(node, path):\n",
    "    for item in node:\n",
    "        new_path = path + [item + \":\" + str(node[item]['count'])]\n",
    "        if len(node[item]['children']) == 0:\n",
    "            print(\" -> \".join(new_path))\n",
    "        else:\n",
    "            traverse(node[item]['children'], new_path)"
   ]
  },
  {
   "cell_type": "code",
   "execution_count": 92,
   "metadata": {},
   "outputs": [
    {
     "name": "stdout",
     "output_type": "stream",
     "text": [
      "I2:7 -> I1:4 -> I5:1\n",
      "I2:7 -> I1:4 -> I4:1\n",
      "I2:7 -> I1:4 -> I3:2 -> I5:1\n",
      "I2:7 -> I4:1\n",
      "I2:7 -> I3:2\n",
      "I1:2 -> I3:2\n"
     ]
    }
   ],
   "source": [
    "for item, node in fp_tree['root'].items():\n",
    "    traverse({item: node}, [])"
   ]
  }
 ],
 "metadata": {
  "kernelspec": {
   "display_name": ".venv",
   "language": "python",
   "name": "python3"
  },
  "language_info": {
   "codemirror_mode": {
    "name": "ipython",
    "version": 3
   },
   "file_extension": ".py",
   "mimetype": "text/x-python",
   "name": "python",
   "nbconvert_exporter": "python",
   "pygments_lexer": "ipython3",
   "version": "3.11.0"
  }
 },
 "nbformat": 4,
 "nbformat_minor": 2
}
