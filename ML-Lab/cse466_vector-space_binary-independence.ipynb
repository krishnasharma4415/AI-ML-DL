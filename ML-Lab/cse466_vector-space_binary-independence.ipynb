{
 "cells": [
  {
   "cell_type": "markdown",
   "id": "7849b891",
   "metadata": {},
   "source": [
    "Krishna Sharma | AP22110010128"
   ]
  },
  {
   "cell_type": "code",
   "execution_count": 1,
   "id": "169bfe5d",
   "metadata": {},
   "outputs": [],
   "source": [
    "import math\n",
    "import re\n",
    "from collections import Counter"
   ]
  },
  {
   "cell_type": "code",
   "execution_count": 2,
   "id": "826ac717",
   "metadata": {},
   "outputs": [],
   "source": [
    "with open('space.txt', 'r', encoding='utf-8') as file:\n",
    "    documents = file.readlines()"
   ]
  },
  {
   "cell_type": "code",
   "execution_count": 3,
   "id": "e09d62cd",
   "metadata": {},
   "outputs": [],
   "source": [
    "cleaned_docs = []\n",
    "for doc in documents:\n",
    "    doc = doc.lower()\n",
    "    doc = re.sub(r'[^a-zA-Z\\s]', '', doc)\n",
    "    cleaned_docs.append(doc.strip())"
   ]
  },
  {
   "cell_type": "code",
   "execution_count": 4,
   "id": "6f6befc6",
   "metadata": {},
   "outputs": [
    {
     "name": "stdout",
     "output_type": "stream",
     "text": [
      "Number of documents: 475\n",
      "First document preview: archivename spaceacronyms...\n"
     ]
    }
   ],
   "source": [
    "print(f\"Number of documents: {len(cleaned_docs)}\")\n",
    "print(f\"First document preview: {cleaned_docs[0][:100]}...\")"
   ]
  },
  {
   "cell_type": "markdown",
   "id": "ffefd2df",
   "metadata": {},
   "source": [
    "VECTOR SPACE MODEL IMPLEMENTATION"
   ]
  },
  {
   "cell_type": "code",
   "execution_count": 5,
   "id": "1f2e1149",
   "metadata": {},
   "outputs": [
    {
     "name": "stdout",
     "output_type": "stream",
     "text": [
      "Vocabulary size: 1216\n"
     ]
    }
   ],
   "source": [
    "vocabulary = set()\n",
    "for doc in cleaned_docs:\n",
    "    words = doc.split()\n",
    "    vocabulary.update(words)\n",
    "\n",
    "vocabulary = list(vocabulary)\n",
    "vocabulary.sort()\n",
    "print(f\"Vocabulary size: {len(vocabulary)}\")"
   ]
  },
  {
   "cell_type": "code",
   "execution_count": 6,
   "id": "35bba0ba",
   "metadata": {},
   "outputs": [
    {
     "name": "stdout",
     "output_type": "stream",
     "text": [
      "TF matrix created with shape: 475 x 1216\n"
     ]
    }
   ],
   "source": [
    "tf_matrix = []\n",
    "for i, doc in enumerate(cleaned_docs):\n",
    "    words = doc.split()\n",
    "    word_count = len(words)\n",
    "    tf_vector = []\n",
    "    \n",
    "    for term in vocabulary:\n",
    "        term_freq = words.count(term)\n",
    "        tf = term_freq / word_count if word_count > 0 else 0\n",
    "        tf_vector.append(tf)\n",
    "    \n",
    "    tf_matrix.append(tf_vector)\n",
    "\n",
    "print(f\"TF matrix created with shape: {len(tf_matrix)} x {len(vocabulary)}\")"
   ]
  },
  {
   "cell_type": "code",
   "execution_count": 9,
   "id": "a5bf0a92",
   "metadata": {},
   "outputs": [
    {
     "name": "stdout",
     "output_type": "stream",
     "text": [
      "IDF calculated for all terms\n"
     ]
    }
   ],
   "source": [
    "df_vector = []\n",
    "total_docs = len(cleaned_docs)\n",
    "\n",
    "for term in vocabulary:\n",
    "    df = 0\n",
    "    for doc in cleaned_docs:\n",
    "        if term in doc.split():\n",
    "            df += 1\n",
    "    df_vector.append(df)\n",
    "\n",
    "idf_vector = []\n",
    "for df in df_vector:\n",
    "    if df > 0:\n",
    "        idf = math.log(total_docs / df)\n",
    "    else:\n",
    "        idf = 0\n",
    "    idf_vector.append(idf)\n",
    "\n",
    "print(\"IDF calculated for all terms\")"
   ]
  },
  {
   "cell_type": "code",
   "execution_count": 12,
   "id": "55294a69",
   "metadata": {},
   "outputs": [],
   "source": [
    "tfidf_matrix = []\n",
    "for doc_tf in tf_matrix:\n",
    "    tfidf_vector = []\n",
    "    for i, tf in enumerate(doc_tf):\n",
    "        tfidf = tf * idf_vector[i]\n",
    "        tfidf_vector.append(tfidf)\n",
    "    tfidf_matrix.append(tfidf_vector)"
   ]
  },
  {
   "cell_type": "code",
   "execution_count": 13,
   "id": "1320e93f",
   "metadata": {},
   "outputs": [],
   "source": [
    "query = \"space exploration mars mission\" \n",
    "query = query.lower()\n",
    "query = re.sub(r'[^a-zA-Z\\s]', '', query)\n",
    "query_words = query.split()\n",
    "\n",
    "query_vector = []\n",
    "for term in vocabulary:\n",
    "    if term in query_words:\n",
    "        query_vector.append(1)\n",
    "    else:\n",
    "        query_vector.append(0)"
   ]
  },
  {
   "cell_type": "code",
   "execution_count": 14,
   "id": "6f059efa",
   "metadata": {},
   "outputs": [],
   "source": [
    "cosine_similarities = []\n",
    "for doc_vector in tfidf_matrix:\n",
    "    dot_product = 0\n",
    "    for i in range(len(vocabulary)):\n",
    "        dot_product += query_vector[i] * doc_vector[i]\n",
    "    \n",
    "    query_magnitude = 0\n",
    "    doc_magnitude = 0\n",
    "    for i in range(len(vocabulary)):\n",
    "        query_magnitude += query_vector[i] ** 2\n",
    "        doc_magnitude += doc_vector[i] ** 2\n",
    "    \n",
    "    query_magnitude = math.sqrt(query_magnitude)\n",
    "    doc_magnitude = math.sqrt(doc_magnitude)\n",
    "    \n",
    "    if query_magnitude > 0 and doc_magnitude > 0:\n",
    "        cosine_sim = dot_product / (query_magnitude * doc_magnitude)\n",
    "    else:\n",
    "        cosine_sim = 0\n",
    "    \n",
    "    cosine_similarities.append(cosine_sim)"
   ]
  },
  {
   "cell_type": "code",
   "execution_count": 15,
   "id": "ccd5e621",
   "metadata": {},
   "outputs": [
    {
     "name": "stdout",
     "output_type": "stream",
     "text": [
      "Document 333: Similarity = 0.4201\n",
      "Content: sei space exploration initiative...\n",
      "\n",
      "Document 248: Similarity = 0.3257\n",
      "Content: mrsrm mars rover and sample return mission...\n",
      "\n",
      "Document 241: Similarity = 0.2834\n",
      "Content: moc mars observer camera on mars observer...\n",
      "\n",
      "Document 243: Similarity = 0.2535\n",
      "Content: mola mars observer laser altimeter on mars observer...\n",
      "\n",
      "Document 235: Similarity = 0.2087\n",
      "Content: mcc mission control center...\n",
      "\n"
     ]
    }
   ],
   "source": [
    "doc_similarities = list(enumerate(cosine_similarities))\n",
    "doc_similarities.sort(key=lambda x: x[1], reverse=True)\n",
    "\n",
    "for i in range(min(5, len(doc_similarities))):\n",
    "    doc_idx, similarity = doc_similarities[i]\n",
    "    print(f\"Document {doc_idx + 1}: Similarity = {similarity:.4f}\")\n",
    "    print(f\"Content: {cleaned_docs[doc_idx][:100]}...\")\n",
    "    print()"
   ]
  },
  {
   "cell_type": "markdown",
   "id": "b5ecdc2c",
   "metadata": {},
   "source": [
    "BINARY INDEPENDENCE MODEL"
   ]
  },
  {
   "cell_type": "code",
   "execution_count": 16,
   "id": "a19c6d10",
   "metadata": {},
   "outputs": [
    {
     "name": "stdout",
     "output_type": "stream",
     "text": [
      "Binary matrix created with shape: 475 x 1216\n"
     ]
    }
   ],
   "source": [
    "binary_matrix = []\n",
    "for doc in cleaned_docs:\n",
    "    words = set(doc.split())\n",
    "    binary_vector = []\n",
    "    \n",
    "    for term in vocabulary:\n",
    "        if term in words:\n",
    "            binary_vector.append(1)\n",
    "        else:\n",
    "            binary_vector.append(0)\n",
    "    \n",
    "    binary_matrix.append(binary_vector)\n",
    "\n",
    "print(f\"Binary matrix created with shape: {len(binary_matrix)} x {len(vocabulary)}\")"
   ]
  },
  {
   "cell_type": "code",
   "execution_count": 17,
   "id": "b9a7be25",
   "metadata": {},
   "outputs": [],
   "source": [
    "relevant_threshold = max(1, len(cleaned_docs) // 5)\n",
    "\n",
    "p_term_relevant = []\n",
    "p_term_not_relevant = []\n",
    "\n",
    "for term_idx in range(len(vocabulary)):\n",
    "    docs_with_term = 0\n",
    "    for doc_vector in binary_matrix:\n",
    "        if doc_vector[term_idx] == 1:\n",
    "            docs_with_term += 1\n",
    "\n",
    "    p_rel = min(0.9, max(0.1, docs_with_term / total_docs + 0.1))\n",
    "    p_term_relevant.append(p_rel)\n",
    "    \n",
    "    p_not_rel = max(0.1, docs_with_term / total_docs - 0.1)\n",
    "    p_term_not_relevant.append(p_not_rel)"
   ]
  },
  {
   "cell_type": "code",
   "execution_count": 18,
   "id": "a3a72a6f",
   "metadata": {},
   "outputs": [],
   "source": [
    "query_binary = []\n",
    "for term in vocabulary:\n",
    "    if term in query_words:\n",
    "        query_binary.append(1)\n",
    "    else:\n",
    "        query_binary.append(0)"
   ]
  },
  {
   "cell_type": "code",
   "execution_count": 19,
   "id": "790d7bfc",
   "metadata": {},
   "outputs": [],
   "source": [
    "bim_scores = []\n",
    "for doc_vector in binary_matrix:\n",
    "    score = 0\n",
    "    \n",
    "    for i in range(len(vocabulary)):\n",
    "        if query_binary[i] == 1:  \n",
    "            if doc_vector[i] == 1:  \n",
    "                p_rel = p_term_relevant[i]\n",
    "                p_not_rel = p_term_not_relevant[i]\n",
    "                \n",
    "                if p_not_rel > 0 and p_rel < 1:\n",
    "                    odds_ratio = (p_rel * (1 - p_not_rel)) / (p_not_rel * (1 - p_rel))\n",
    "                    if odds_ratio > 0:\n",
    "                        score += math.log(odds_ratio)\n",
    "    \n",
    "    bim_scores.append(score)"
   ]
  },
  {
   "cell_type": "code",
   "execution_count": 20,
   "id": "22af048e",
   "metadata": {},
   "outputs": [
    {
     "name": "stdout",
     "output_type": "stream",
     "text": [
      "Document 333: BIM Score = 0.6753\n",
      "Content: sei space exploration initiative...\n",
      "Document 13: BIM Score = 0.6521\n",
      "Content: every acronym i ever saw id soon run out of disk space...\n",
      "Document 30: BIM Score = 0.6521\n",
      "Content: reference publication  revised space transportation system and...\n",
      "Document 69: BIM Score = 0.6521\n",
      "Content: awst aviation week and space technology aka avleak...\n",
      "Document 76: BIM Score = 0.6521\n",
      "Content: bnsc british national space centre...\n"
     ]
    }
   ],
   "source": [
    "doc_bim_scores = list(enumerate(bim_scores))\n",
    "doc_bim_scores.sort(key=lambda x: x[1], reverse=True)\n",
    "\n",
    "for i in range(min(5, len(doc_bim_scores))):\n",
    "    doc_idx, score = doc_bim_scores[i]\n",
    "    print(f\"Document {doc_idx + 1}: BIM Score = {score:.4f}\")\n",
    "    print(f\"Content: {cleaned_docs[doc_idx][:100]}...\")"
   ]
  },
  {
   "cell_type": "markdown",
   "id": "8dd4e522",
   "metadata": {},
   "source": [
    "Krishna Sharma | AP22110010128"
   ]
  }
 ],
 "metadata": {
  "kernelspec": {
   "display_name": ".venv",
   "language": "python",
   "name": "python3"
  },
  "language_info": {
   "codemirror_mode": {
    "name": "ipython",
    "version": 3
   },
   "file_extension": ".py",
   "mimetype": "text/x-python",
   "name": "python",
   "nbconvert_exporter": "python",
   "pygments_lexer": "ipython3",
   "version": "3.11.0"
  }
 },
 "nbformat": 4,
 "nbformat_minor": 5
}
