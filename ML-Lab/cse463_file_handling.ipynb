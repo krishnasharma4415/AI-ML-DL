{
 "cells": [
  {
   "cell_type": "code",
   "execution_count": 1,
   "metadata": {},
   "outputs": [],
   "source": [
    "with open(\"transactions.txt\", \"w\") as file:\n",
    "    file.write(\"T1-A B C D\\n\")\n",
    "    file.write(\"T2-B C D\\n\")\n",
    "    file.write(\"T3-A B C\\n\")\n",
    "    file.write(\"T4-B C E\\n\")\n",
    "    file.write(\"T5-A C D\\n\")"
   ]
  },
  {
   "cell_type": "code",
   "execution_count": 2,
   "metadata": {},
   "outputs": [
    {
     "name": "stdout",
     "output_type": "stream",
     "text": [
      "T1-A B C D\n",
      "T2-B C D\n",
      "T3-A B C\n",
      "T4-B C E\n",
      "T5-A C D\n"
     ]
    }
   ],
   "source": [
    "with open(\"transactions.txt\", \"r\") as file:\n",
    "    for line in file:\n",
    "        print(line.strip())"
   ]
  },
  {
   "cell_type": "code",
   "execution_count": 1,
   "metadata": {},
   "outputs": [],
   "source": [
    "with open(\"transactions2.txt\", \"w\") as file:\n",
    "    while True:\n",
    "        transaction_id = input(\"Enter transaction id: \")\n",
    "        if not transaction_id:\n",
    "            break\n",
    "        num_items = int(input(\"Enter number of items purchased in transaction: \"))\n",
    "        items = []\n",
    "        for _ in range(num_items):\n",
    "            item = input(\"Enter the item: \")\n",
    "            items.append(item)\n",
    "        file.write(f\"{transaction_id}-{ ' '.join(items)}\\n\")"
   ]
  },
  {
   "cell_type": "code",
   "execution_count": 2,
   "metadata": {},
   "outputs": [
    {
     "name": "stdout",
     "output_type": "stream",
     "text": [
      "T1-A B C\n",
      "T2-D E\n",
      "T3-W\n"
     ]
    }
   ],
   "source": [
    "with open(\"transactions2.txt\", \"r\") as file:\n",
    "    for line in file:\n",
    "        print(line.strip())"
   ]
  },
  {
   "cell_type": "code",
   "execution_count": 3,
   "metadata": {},
   "outputs": [
    {
     "name": "stdout",
     "output_type": "stream",
     "text": [
      "[27, 47, 16, 19, 28, 13, 45, 50, 4, 24, 4, 41, 37, 21, 20, 19, 13, 9, 5, 33, 16, 23, 16, 32, 49, 10, 50, 48, 5, 1, 50, 16, 8, 47, 13, 21, 46, 19, 42, 43, 39, 13, 42, 24, 1, 4, 34, 20, 5, 37, 5, 31, 17, 8, 38, 38, 12, 3, 29, 27, 43, 37, 50, 6, 11, 41, 22, 20, 12, 14, 13, 30, 37, 22, 8, 38, 10, 10, 20, 42, 26, 28, 25, 13, 21, 18, 38, 28, 27, 38, 13, 2, 8, 35, 46, 12, 5, 8, 4, 43]\n"
     ]
    }
   ],
   "source": [
    "import random\n",
    "\n",
    "random_numbers = [random.randint(1, 50) for _ in range(100)]\n",
    "print(random_numbers)"
   ]
  },
  {
   "cell_type": "code",
   "execution_count": 4,
   "metadata": {},
   "outputs": [],
   "source": [
    "import random\n",
    "\n",
    "items = ['A', 'B', 'C', 'D', 'E', 'F', 'G', 'H', 'I', 'J']\n",
    "\n",
    "with open(\"transactions3.txt\", \"w\") as file:\n",
    "    for _ in range(10000):\n",
    "        transaction_id = f\"T{_:04d}\"\n",
    "        num_items = random.randint(3, 7)\n",
    "        selected_items = random.sample(items, num_items)\n",
    "        file.write(f\"{transaction_id}-{ ' '.join(selected_items)}\\n\")"
   ]
  }
 ],
 "metadata": {
  "kernelspec": {
   "display_name": ".venv",
   "language": "python",
   "name": "python3"
  },
  "language_info": {
   "codemirror_mode": {
    "name": "ipython",
    "version": 3
   },
   "file_extension": ".py",
   "mimetype": "text/x-python",
   "name": "python",
   "nbconvert_exporter": "python",
   "pygments_lexer": "ipython3",
   "version": "3.11.0"
  }
 },
 "nbformat": 4,
 "nbformat_minor": 2
}
