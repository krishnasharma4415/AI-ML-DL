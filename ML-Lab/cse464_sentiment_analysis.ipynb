{
 "cells": [
  {
   "cell_type": "markdown",
   "metadata": {},
   "source": [
    "Krishna Sharma | AP22110010128"
   ]
  },
  {
   "cell_type": "code",
   "execution_count": 65,
   "metadata": {},
   "outputs": [],
   "source": [
    "import warnings\n",
    "warnings.filterwarnings(\"ignore\")\n",
    "import numpy as np\n",
    "import pandas as pd\n",
    "import matplotlib.pyplot as plt\n",
    "import seaborn as sns\n",
    "import re\n",
    "import nltk\n",
    "from nltk.corpus import stopwords\n",
    "from nltk.stem import WordNetLemmatizer\n",
    "from sklearn.feature_extraction.text import TfidfVectorizer\n",
    "from sklearn.model_selection import train_test_split, cross_val_score\n",
    "from sklearn.naive_bayes import MultinomialNB\n",
    "from sklearn.tree import DecisionTreeClassifier\n",
    "from sklearn.neighbors import KNeighborsClassifier\n",
    "from sklearn.ensemble import VotingClassifier\n",
    "from sklearn.ensemble import RandomForestClassifier, AdaBoostClassifier\n",
    "from xgboost import XGBClassifier\n",
    "from sklearn.metrics import accuracy_score, classification_report"
   ]
  },
  {
   "cell_type": "code",
   "execution_count": 45,
   "metadata": {},
   "outputs": [
    {
     "name": "stderr",
     "output_type": "stream",
     "text": [
      "[nltk_data] Downloading package stopwords to\n",
      "[nltk_data]     C:\\Users\\krish\\AppData\\Roaming\\nltk_data...\n",
      "[nltk_data]   Package stopwords is already up-to-date!\n",
      "[nltk_data] Downloading package wordnet to\n",
      "[nltk_data]     C:\\Users\\krish\\AppData\\Roaming\\nltk_data...\n",
      "[nltk_data]   Package wordnet is already up-to-date!\n"
     ]
    },
    {
     "data": {
      "text/plain": [
       "True"
      ]
     },
     "execution_count": 45,
     "metadata": {},
     "output_type": "execute_result"
    }
   ],
   "source": [
    "nltk.download('stopwords')\n",
    "nltk.download('wordnet')"
   ]
  },
  {
   "cell_type": "code",
   "execution_count": 46,
   "metadata": {},
   "outputs": [
    {
     "name": "stdout",
     "output_type": "stream",
     "text": [
      "<class 'pandas.core.frame.DataFrame'>\n",
      "RangeIndex: 25001 entries, 0 to 25000\n",
      "Data columns (total 2 columns):\n",
      " #   Column  Non-Null Count  Dtype \n",
      "---  ------  --------------  ----- \n",
      " 0   0       25001 non-null  object\n",
      " 1   1       25001 non-null  int64 \n",
      "dtypes: int64(1), object(1)\n",
      "memory usage: 390.8+ KB\n",
      "None\n"
     ]
    },
    {
     "data": {
      "text/html": [
       "<div>\n",
       "<style scoped>\n",
       "    .dataframe tbody tr th:only-of-type {\n",
       "        vertical-align: middle;\n",
       "    }\n",
       "\n",
       "    .dataframe tbody tr th {\n",
       "        vertical-align: top;\n",
       "    }\n",
       "\n",
       "    .dataframe thead th {\n",
       "        text-align: right;\n",
       "    }\n",
       "</style>\n",
       "<table border=\"1\" class=\"dataframe\">\n",
       "  <thead>\n",
       "    <tr style=\"text-align: right;\">\n",
       "      <th></th>\n",
       "      <th>0</th>\n",
       "      <th>1</th>\n",
       "    </tr>\n",
       "  </thead>\n",
       "  <tbody>\n",
       "    <tr>\n",
       "      <th>0</th>\n",
       "      <td>0</td>\n",
       "      <td>1</td>\n",
       "    </tr>\n",
       "    <tr>\n",
       "      <th>1</th>\n",
       "      <td>This film is absolutely awful, but nevertheles...</td>\n",
       "      <td>0</td>\n",
       "    </tr>\n",
       "    <tr>\n",
       "      <th>2</th>\n",
       "      <td>Well since seeing part's 1 through 3 I can hon...</td>\n",
       "      <td>0</td>\n",
       "    </tr>\n",
       "    <tr>\n",
       "      <th>3</th>\n",
       "      <td>I got to see this film at a preview and was da...</td>\n",
       "      <td>1</td>\n",
       "    </tr>\n",
       "    <tr>\n",
       "      <th>4</th>\n",
       "      <td>This adaptation positively butchers a classic ...</td>\n",
       "      <td>0</td>\n",
       "    </tr>\n",
       "  </tbody>\n",
       "</table>\n",
       "</div>"
      ],
      "text/plain": [
       "                                                   0  1\n",
       "0                                                  0  1\n",
       "1  This film is absolutely awful, but nevertheles...  0\n",
       "2  Well since seeing part's 1 through 3 I can hon...  0\n",
       "3  I got to see this film at a preview and was da...  1\n",
       "4  This adaptation positively butchers a classic ...  0"
      ]
     },
     "execution_count": 46,
     "metadata": {},
     "output_type": "execute_result"
    }
   ],
   "source": [
    "train = pd.read_csv('imdb_train.csv', header=None)\n",
    "print(train.info())\n",
    "train.head()"
   ]
  },
  {
   "cell_type": "code",
   "execution_count": 47,
   "metadata": {},
   "outputs": [
    {
     "name": "stdout",
     "output_type": "stream",
     "text": [
      "<class 'pandas.core.frame.DataFrame'>\n",
      "RangeIndex: 25001 entries, 0 to 25000\n",
      "Data columns (total 2 columns):\n",
      " #   Column  Non-Null Count  Dtype \n",
      "---  ------  --------------  ----- \n",
      " 0   0       25001 non-null  object\n",
      " 1   1       25001 non-null  int64 \n",
      "dtypes: int64(1), object(1)\n",
      "memory usage: 390.8+ KB\n",
      "None\n"
     ]
    },
    {
     "data": {
      "text/html": [
       "<div>\n",
       "<style scoped>\n",
       "    .dataframe tbody tr th:only-of-type {\n",
       "        vertical-align: middle;\n",
       "    }\n",
       "\n",
       "    .dataframe tbody tr th {\n",
       "        vertical-align: top;\n",
       "    }\n",
       "\n",
       "    .dataframe thead th {\n",
       "        text-align: right;\n",
       "    }\n",
       "</style>\n",
       "<table border=\"1\" class=\"dataframe\">\n",
       "  <thead>\n",
       "    <tr style=\"text-align: right;\">\n",
       "      <th></th>\n",
       "      <th>0</th>\n",
       "      <th>1</th>\n",
       "    </tr>\n",
       "  </thead>\n",
       "  <tbody>\n",
       "    <tr>\n",
       "      <th>0</th>\n",
       "      <td>0</td>\n",
       "      <td>1</td>\n",
       "    </tr>\n",
       "    <tr>\n",
       "      <th>1</th>\n",
       "      <td>I did not enjoy the film Eraser whatsoever. It...</td>\n",
       "      <td>0</td>\n",
       "    </tr>\n",
       "    <tr>\n",
       "      <th>2</th>\n",
       "      <td>Be very afraid of anyone who likes this film. ...</td>\n",
       "      <td>0</td>\n",
       "    </tr>\n",
       "    <tr>\n",
       "      <th>3</th>\n",
       "      <td>The 3rd and last big screen spin off from the ...</td>\n",
       "      <td>0</td>\n",
       "    </tr>\n",
       "    <tr>\n",
       "      <th>4</th>\n",
       "      <td>Barely three and a half years after just scrap...</td>\n",
       "      <td>1</td>\n",
       "    </tr>\n",
       "  </tbody>\n",
       "</table>\n",
       "</div>"
      ],
      "text/plain": [
       "                                                   0  1\n",
       "0                                                  0  1\n",
       "1  I did not enjoy the film Eraser whatsoever. It...  0\n",
       "2  Be very afraid of anyone who likes this film. ...  0\n",
       "3  The 3rd and last big screen spin off from the ...  0\n",
       "4  Barely three and a half years after just scrap...  1"
      ]
     },
     "execution_count": 47,
     "metadata": {},
     "output_type": "execute_result"
    }
   ],
   "source": [
    "test = pd.read_csv('imdb_test.csv', header=None)\n",
    "print(test.info())\n",
    "test.head()"
   ]
  },
  {
   "cell_type": "code",
   "execution_count": 48,
   "metadata": {},
   "outputs": [
    {
     "name": "stdout",
     "output_type": "stream",
     "text": [
      "review       0\n",
      "sentiment    0\n",
      "dtype: int64\n",
      "review       0\n",
      "sentiment    0\n",
      "dtype: int64\n"
     ]
    }
   ],
   "source": [
    "train.columns = ['review', 'sentiment']\n",
    "test.columns = ['review', 'sentiment']\n",
    "\n",
    "print(train.isnull().sum())\n",
    "print(test.isnull().sum())"
   ]
  },
  {
   "cell_type": "code",
   "execution_count": 49,
   "metadata": {},
   "outputs": [],
   "source": [
    "stop_words = set(stopwords.words('english'))\n",
    "lemmatizer = WordNetLemmatizer()\n",
    "\n",
    "def preprocess(text):\n",
    "    text = text.lower() \n",
    "    text = re.sub(r'[^a-zA-Z\\s]', '', text) \n",
    "    words = text.split()\n",
    "    words = [lemmatizer.lemmatize(word) for word in words if word not in stop_words]\n",
    "    return ' '.join(words)"
   ]
  },
  {
   "cell_type": "code",
   "execution_count": 50,
   "metadata": {},
   "outputs": [],
   "source": [
    "train['review'] = train['review'].apply(preprocess)\n",
    "test['review'] = test['review'].apply(preprocess)"
   ]
  },
  {
   "cell_type": "code",
   "execution_count": 51,
   "metadata": {},
   "outputs": [],
   "source": [
    "vectorizer = TfidfVectorizer(stop_words='english', max_features=5000)\n",
    "X_train_tfidf = vectorizer.fit_transform(train['review'])\n",
    "X_test_tfidf = vectorizer.transform(test['review'])\n",
    "y_train = train['sentiment']\n",
    "y_test = test['sentiment']"
   ]
  },
  {
   "cell_type": "code",
   "execution_count": null,
   "metadata": {},
   "outputs": [
    {
     "name": "stdout",
     "output_type": "stream",
     "text": [
      "Naive Bayes Cross-Validation Accuracy: 0.8473659428114377\n",
      "Naive Bayes Accuracy: 0.8355665773369065\n",
      "              precision    recall  f1-score   support\n",
      "\n",
      "           0       0.82      0.86      0.84     12500\n",
      "           1       0.85      0.81      0.83     12501\n",
      "\n",
      "    accuracy                           0.84     25001\n",
      "   macro avg       0.84      0.84      0.84     25001\n",
      "weighted avg       0.84      0.84      0.84     25001\n",
      "\n"
     ]
    }
   ],
   "source": [
    "nb = MultinomialNB()\n",
    "scores_nb = cross_val_score(nb, X_train_tfidf, y_train, cv=5, scoring='accuracy')\n",
    "print(\"Naive Bayes Cross-Validation Accuracy:\", scores_nb.mean())\n",
    "nb.fit(X_train_tfidf, y_train)\n",
    "y_pred = nb.predict(X_test_tfidf)\n",
    "print(\"Naive Bayes Accuracy:\", accuracy_score(y_test, y_pred))\n",
    "print(classification_report(y_test, y_pred))"
   ]
  },
  {
   "cell_type": "code",
   "execution_count": 53,
   "metadata": {},
   "outputs": [
    {
     "name": "stdout",
     "output_type": "stream",
     "text": [
      "Decision Tree Cross-Validation Accuracy: 0.7087719976004798\n",
      "Decision Tree Accuracy: 0.7110515579376825\n",
      "              precision    recall  f1-score   support\n",
      "\n",
      "           0       0.71      0.72      0.71     12500\n",
      "           1       0.71      0.70      0.71     12501\n",
      "\n",
      "    accuracy                           0.71     25001\n",
      "   macro avg       0.71      0.71      0.71     25001\n",
      "weighted avg       0.71      0.71      0.71     25001\n",
      "\n"
     ]
    }
   ],
   "source": [
    "dt = DecisionTreeClassifier(random_state=42)\n",
    "scores_dt = cross_val_score(dt, X_train_tfidf, y_train, cv=5, scoring='accuracy')\n",
    "print(\"Decision Tree Cross-Validation Accuracy:\", scores_dt.mean())\n",
    "dt.fit(X_train_tfidf, y_train)\n",
    "y_pred_dt = dt.predict(X_test_tfidf)\n",
    "print(\"Decision Tree Accuracy:\", accuracy_score(y_test, y_pred_dt))\n",
    "print(classification_report(y_test, y_pred_dt))"
   ]
  },
  {
   "cell_type": "code",
   "execution_count": 54,
   "metadata": {},
   "outputs": [
    {
     "name": "stdout",
     "output_type": "stream",
     "text": [
      "Random Forest Cross-Validation Accuracy: 0.8378465826834633\n",
      "Random Forest Accuracy: 0.8394864205431782\n",
      "              precision    recall  f1-score   support\n",
      "\n",
      "           0       0.83      0.86      0.84     12500\n",
      "           1       0.85      0.82      0.84     12501\n",
      "\n",
      "    accuracy                           0.84     25001\n",
      "   macro avg       0.84      0.84      0.84     25001\n",
      "weighted avg       0.84      0.84      0.84     25001\n",
      "\n"
     ]
    }
   ],
   "source": [
    "rf = RandomForestClassifier(n_estimators=100, random_state=42)\n",
    "scores_rf = cross_val_score(rf, X_train_tfidf, y_train, cv=5, scoring='accuracy')\n",
    "print(\"Random Forest Cross-Validation Accuracy:\", scores_rf.mean())\n",
    "rf.fit(X_train_tfidf, y_train)\n",
    "y_pred_rf = rf.predict(X_test_tfidf)\n",
    "print(\"Random Forest Accuracy:\", accuracy_score(y_test, y_pred_rf))\n",
    "print(classification_report(y_test, y_pred_rf))"
   ]
  },
  {
   "cell_type": "code",
   "execution_count": 55,
   "metadata": {},
   "outputs": [
    {
     "name": "stdout",
     "output_type": "stream",
     "text": [
      "XGBoost Cross-Validation Accuracy: 0.842646126774645\n",
      "XGBoost Accuracy: 0.8477660893564257\n",
      "              precision    recall  f1-score   support\n",
      "\n",
      "           0       0.86      0.83      0.84     12500\n",
      "           1       0.83      0.87      0.85     12501\n",
      "\n",
      "    accuracy                           0.85     25001\n",
      "   macro avg       0.85      0.85      0.85     25001\n",
      "weighted avg       0.85      0.85      0.85     25001\n",
      "\n"
     ]
    }
   ],
   "source": [
    "xgb = XGBClassifier(use_label_encoder=False, eval_metric='logloss')\n",
    "scores_xgb = cross_val_score(xgb, X_train_tfidf, y_train, cv=5, scoring='accuracy')\n",
    "print(\"XGBoost Cross-Validation Accuracy:\", scores_xgb.mean())\n",
    "xgb.fit(X_train_tfidf, y_train)\n",
    "y_pred_xgb = xgb.predict(X_test_tfidf)\n",
    "print(\"XGBoost Accuracy:\", accuracy_score(y_test, y_pred_xgb))\n",
    "print(classification_report(y_test, y_pred_xgb))"
   ]
  },
  {
   "cell_type": "code",
   "execution_count": 56,
   "metadata": {},
   "outputs": [
    {
     "name": "stdout",
     "output_type": "stream",
     "text": [
      "AdaBoost Cross-Validation Accuracy: 0.7689292861427715\n",
      "AdaBoost Accuracy: 0.7677292908283668\n",
      "              precision    recall  f1-score   support\n",
      "\n",
      "           0       0.81      0.69      0.75     12500\n",
      "           1       0.73      0.84      0.78     12501\n",
      "\n",
      "    accuracy                           0.77     25001\n",
      "   macro avg       0.77      0.77      0.77     25001\n",
      "weighted avg       0.77      0.77      0.77     25001\n",
      "\n"
     ]
    }
   ],
   "source": [
    "ada = AdaBoostClassifier(n_estimators=100, random_state=42)\n",
    "scores_ada = cross_val_score(ada, X_train_tfidf, y_train, cv=5, scoring='accuracy')\n",
    "print(\"AdaBoost Cross-Validation Accuracy:\", scores_ada.mean())\n",
    "ada.fit(X_train_tfidf, y_train)\n",
    "y_pred_ada = ada.predict(X_test_tfidf)\n",
    "print(\"AdaBoost Accuracy:\", accuracy_score(y_test, y_pred_ada))\n",
    "print(classification_report(y_test, y_pred_ada))"
   ]
  },
  {
   "cell_type": "code",
   "execution_count": 59,
   "metadata": {},
   "outputs": [
    {
     "name": "stdout",
     "output_type": "stream",
     "text": [
      "K-Nearest Neighbors Cross-Validation Accuracy: 0.7311697580483904\n",
      "K-Nearest Neighbors Accuracy: 0.6460541578336867\n",
      "              precision    recall  f1-score   support\n",
      "\n",
      "           0       0.69      0.53      0.60     12500\n",
      "           1       0.62      0.76      0.68     12501\n",
      "\n",
      "    accuracy                           0.65     25001\n",
      "   macro avg       0.65      0.65      0.64     25001\n",
      "weighted avg       0.65      0.65      0.64     25001\n",
      "\n"
     ]
    }
   ],
   "source": [
    "knn = KNeighborsClassifier(n_neighbors=5)\n",
    "scores_knn = cross_val_score(knn, X_train_tfidf, y_train, cv=5, scoring='accuracy')\n",
    "print(\"K-Nearest Neighbors Cross-Validation Accuracy:\", scores_knn.mean())\n",
    "knn.fit(X_train_tfidf, y_train)\n",
    "y_pred_knn = knn.predict(X_test_tfidf)\n",
    "print(\"K-Nearest Neighbors Accuracy:\", accuracy_score(y_test, y_pred_knn))\n",
    "print(classification_report(y_test, y_pred_knn))"
   ]
  },
  {
   "cell_type": "code",
   "execution_count": 61,
   "metadata": {},
   "outputs": [
    {
     "name": "stdout",
     "output_type": "stream",
     "text": [
      "Ensemble Cross-Validation Accuracy: 0.8320465666866627\n",
      "Ensemble Accuracy: 0.8016479340826367\n",
      "              precision    recall  f1-score   support\n",
      "\n",
      "           0       0.82      0.78      0.80     12500\n",
      "           1       0.79      0.83      0.81     12501\n",
      "\n",
      "    accuracy                           0.80     25001\n",
      "   macro avg       0.80      0.80      0.80     25001\n",
      "weighted avg       0.80      0.80      0.80     25001\n",
      "\n"
     ]
    }
   ],
   "source": [
    "ensemble = VotingClassifier(estimators=[('DecisionTree', dt),('NaiveBayes', nb),('KNN', knn)], voting='hard')\n",
    "scores_ensemble = cross_val_score(ensemble, X_train_tfidf, y_train, cv=5, scoring='accuracy')\n",
    "print(\"Ensemble Cross-Validation Accuracy:\", scores_ensemble.mean())\n",
    "ensemble.fit(X_train_tfidf, y_train)\n",
    "y_pred_ensemble = ensemble.predict(X_test_tfidf)\n",
    "print(\"Ensemble Accuracy:\", accuracy_score(y_test, y_pred_ensemble))\n",
    "print(classification_report(y_test, y_pred_ensemble))"
   ]
  },
  {
   "cell_type": "code",
   "execution_count": 62,
   "metadata": {},
   "outputs": [
    {
     "name": "stdout",
     "output_type": "stream",
     "text": [
      "Naive Bayes classifier:  0.8473659428114377\n",
      "Decision tree:  0.7087719976004798\n",
      "Random forest:  0.8378465826834633\n",
      "XGboost:  0.842646126774645\n",
      "Adaboost:  0.7689292861427715\n",
      "K-Nearest Neighbors:  0.7311697580483904\n",
      "Ensemble:  0.8320465666866627\n"
     ]
    }
   ],
   "source": [
    "print(\"Naive Bayes classifier: \",scores_nb.mean())\n",
    "print(\"Decision tree: \", scores_dt.mean())\n",
    "print(\"Random forest: \", scores_rf.mean())\n",
    "print(\"XGboost: \", scores_xgb.mean())\n",
    "print(\"Adaboost: \", scores_ada.mean())\n",
    "print(\"K-Nearest Neighbors: \", scores_knn.mean())\n",
    "print(\"Ensemble: \", scores_ensemble.mean())"
   ]
  },
  {
   "cell_type": "code",
   "execution_count": 67,
   "metadata": {},
   "outputs": [
    {
     "data": {
      "image/png": "[encoded data removed]",
      "text/plain": [
       "<Figure size 1000x600 with 1 Axes>"
      ]
     },
     "metadata": {},
     "output_type": "display_data"
    }
   ],
   "source": [
    "accuracies = {\n",
    "    \"Naive Bayes\": scores_nb.mean(),\n",
    "    \"Decision Tree\": scores_dt.mean(),\n",
    "    \"Random Forest\": scores_rf.mean(),\n",
    "    \"XGBoost\": scores_xgb.mean(),\n",
    "    \"AdaBoost\": scores_ada.mean(),\n",
    "    \"KNN\": scores_knn.mean(),\n",
    "    \"Ensemble\": scores_ensemble.mean()\n",
    "}\n",
    "\n",
    "plt.figure(figsize=(10, 6))\n",
    "sns.barplot(x=list(accuracies.keys()), y=list(accuracies.values()), palette='viridis')\n",
    "plt.xlabel(\"Models\")\n",
    "plt.ylabel(\"Accuracy\")\n",
    "plt.title(\"Comparison of Model Accuracies\")\n",
    "plt.xticks(rotation=45)\n",
    "plt.ylim(0.6, 0.9)\n",
    "plt.show()"
   ]
  },
  {
   "cell_type": "code",
   "execution_count": null,
   "metadata": {},
   "outputs": [],
   "source": []
  }
 ],
 "metadata": {
  "kernelspec": {
   "display_name": ".venv",
   "language": "python",
   "name": "python3"
  },
  "language_info": {
   "codemirror_mode": {
    "name": "ipython",
    "version": 3
   },
   "file_extension": ".py",
   "mimetype": "text/x-python",
   "name": "python",
   "nbconvert_exporter": "python",
   "pygments_lexer": "ipython3",
   "version": "3.11.0"
  }
 },
 "nbformat": 4,
 "nbformat_minor": 2
}
