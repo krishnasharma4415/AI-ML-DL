{
 "cells": [
  {
   "cell_type": "code",
   "execution_count": 38,
   "metadata": {},
   "outputs": [],
   "source": [
    "import pandas as pd\n",
    "import numpy as np\n",
    "import random\n",
    "import math\n",
    "from sklearn.datasets import load_iris"
   ]
  },
  {
   "cell_type": "code",
   "execution_count": 39,
   "metadata": {},
   "outputs": [],
   "source": [
    "samples = 20\n",
    "attributes = 4\n",
    "classes = 3"
   ]
  },
  {
   "cell_type": "code",
   "execution_count": 40,
   "metadata": {},
   "outputs": [],
   "source": [
    "attribute_1 = [\"A\", \"B\", \"C\"]\n",
    "attribute_2 = [\"X\", \"Y\", \"Z\"]\n",
    "attribute_3 = (1, 10)\n",
    "attribute_4 = (5, 15)"
   ]
  },
  {
   "cell_type": "code",
   "execution_count": 41,
   "metadata": {},
   "outputs": [],
   "source": [
    "data = {\n",
    "    \"Attribute_1\": [random.choice(attribute_1) for _ in range(samples)],\n",
    "    \"Attribute_2\": [random.choice(attribute_2) for _ in range(samples)],\n",
    "    \"Attribute_3\": [random.uniform(*attribute_3) for _ in range(samples)],\n",
    "    \"Attribute_4\": [random.uniform(*attribute_4) for _ in range(samples)],\n",
    "    \"Class\": [random.randint(1, classes) for _ in range(samples)]\n",
    "}"
   ]
  },
  {
   "cell_type": "code",
   "execution_count": 42,
   "metadata": {},
   "outputs": [
    {
     "data": {
      "text/html": [
       "<div>\n",
       "<style scoped>\n",
       "    .dataframe tbody tr th:only-of-type {\n",
       "        vertical-align: middle;\n",
       "    }\n",
       "\n",
       "    .dataframe tbody tr th {\n",
       "        vertical-align: top;\n",
       "    }\n",
       "\n",
       "    .dataframe thead th {\n",
       "        text-align: right;\n",
       "    }\n",
       "</style>\n",
       "<table border=\"1\" class=\"dataframe\">\n",
       "  <thead>\n",
       "    <tr style=\"text-align: right;\">\n",
       "      <th></th>\n",
       "      <th>Attribute_1</th>\n",
       "      <th>Attribute_2</th>\n",
       "      <th>Attribute_3</th>\n",
       "      <th>Attribute_4</th>\n",
       "      <th>Class</th>\n",
       "    </tr>\n",
       "  </thead>\n",
       "  <tbody>\n",
       "    <tr>\n",
       "      <th>0</th>\n",
       "      <td>A</td>\n",
       "      <td>Y</td>\n",
       "      <td>7.106113</td>\n",
       "      <td>6.300782</td>\n",
       "      <td>3</td>\n",
       "    </tr>\n",
       "    <tr>\n",
       "      <th>1</th>\n",
       "      <td>A</td>\n",
       "      <td>X</td>\n",
       "      <td>2.765403</td>\n",
       "      <td>7.854343</td>\n",
       "      <td>2</td>\n",
       "    </tr>\n",
       "    <tr>\n",
       "      <th>2</th>\n",
       "      <td>B</td>\n",
       "      <td>Y</td>\n",
       "      <td>7.796849</td>\n",
       "      <td>8.903308</td>\n",
       "      <td>2</td>\n",
       "    </tr>\n",
       "    <tr>\n",
       "      <th>3</th>\n",
       "      <td>C</td>\n",
       "      <td>X</td>\n",
       "      <td>6.283586</td>\n",
       "      <td>12.039409</td>\n",
       "      <td>1</td>\n",
       "    </tr>\n",
       "    <tr>\n",
       "      <th>4</th>\n",
       "      <td>C</td>\n",
       "      <td>Z</td>\n",
       "      <td>3.268272</td>\n",
       "      <td>8.273143</td>\n",
       "      <td>1</td>\n",
       "    </tr>\n",
       "  </tbody>\n",
       "</table>\n",
       "</div>"
      ],
      "text/plain": [
       "  Attribute_1 Attribute_2  Attribute_3  Attribute_4  Class\n",
       "0           A           Y     7.106113     6.300782      3\n",
       "1           A           X     2.765403     7.854343      2\n",
       "2           B           Y     7.796849     8.903308      2\n",
       "3           C           X     6.283586    12.039409      1\n",
       "4           C           Z     3.268272     8.273143      1"
      ]
     },
     "execution_count": 42,
     "metadata": {},
     "output_type": "execute_result"
    }
   ],
   "source": [
    "df = pd.DataFrame(data)\n",
    "df.head()"
   ]
  },
  {
   "cell_type": "code",
   "execution_count": null,
   "metadata": {},
   "outputs": [],
   "source": [
    "def entropy(df):\n",
    "    value_counts = df[\"Class\"].value_counts(normalize=True)\n",
    "    entropy = 0\n",
    "    for p in value_counts:\n",
    "        entropy -= p * math.log2(p)\n",
    "    return entropy"
   ]
  },
  {
   "cell_type": "code",
   "execution_count": 44,
   "metadata": {},
   "outputs": [],
   "source": [
    "def split_dataset(df, column_name):\n",
    "    subsets = {}\n",
    "    for value in df[column_name].unique():\n",
    "        subsets[value] = df[df[column_name] == value]\n",
    "    return subsets"
   ]
  },
  {
   "cell_type": "code",
   "execution_count": null,
   "metadata": {},
   "outputs": [],
   "source": [
    "def IG(df, attribute):\n",
    "    total_entropy = entropy(df)\n",
    "    subsets = split_dataset(df, attribute)\n",
    "\n",
    "    weighted_entropy = 0\n",
    "    for subset in subsets.values():\n",
    "        proportion = len(subset) / len(df)\n",
    "        weighted_entropy += proportion * entropy(subset)\n",
    "\n",
    "    info_gain = total_entropy - weighted_entropy\n",
    "    return info_gain"
   ]
  },
  {
   "cell_type": "code",
   "execution_count": null,
   "metadata": {},
   "outputs": [],
   "source": [
    "def best_attribute(df):\n",
    "    attributes = [col for col in df.columns if col != \"Class\"]\n",
    "    gains = {}\n",
    "    for attr in attributes:\n",
    "        gains[attr] = IG(df, attr)\n",
    "    return max(gains, key=gains.get)"
   ]
  },
  {
   "cell_type": "code",
   "execution_count": 47,
   "metadata": {},
   "outputs": [],
   "source": [
    "def build_tree(df):\n",
    "    if df[\"Class\"].nunique() == 1:\n",
    "        return df[\"Class\"].iloc[0]\n",
    "    if len(df.columns) == 1:\n",
    "        return df[\"Class\"].mode()[0]\n",
    "    best_attr = best_attribute(df)\n",
    "    tree = {best_attr: {}}\n",
    "    subsets = split_dataset(df, best_attr)\n",
    "    for value, subset in subsets.items():\n",
    "        if subset.empty:\n",
    "            tree[best_attr][value] = df[\"Class\"].mode()[0]\n",
    "        else:\n",
    "            tree[best_attr][value] = build_tree(subset.drop(columns=[best_attr]))\n",
    "    return tree"
   ]
  },
  {
   "cell_type": "code",
   "execution_count": 49,
   "metadata": {},
   "outputs": [
    {
     "data": {
      "text/plain": [
       "{'Attribute_3': {np.float64(7.106112590471241): np.int64(3),\n",
       "  np.float64(2.765402775615677): np.int64(2),\n",
       "  np.float64(7.796849312454084): np.int64(2),\n",
       "  np.float64(6.283585714329733): np.int64(1),\n",
       "  np.float64(3.26827163646785): np.int64(1),\n",
       "  np.float64(3.6202080223587467): np.int64(2),\n",
       "  np.float64(2.4945574093647016): np.int64(2),\n",
       "  np.float64(1.1170594303533368): np.int64(1),\n",
       "  np.float64(2.575491525119035): np.int64(2),\n",
       "  np.float64(4.533623574192272): np.int64(3),\n",
       "  np.float64(6.266010028333149): np.int64(2),\n",
       "  np.float64(3.776661207797743): np.int64(1),\n",
       "  np.float64(8.948439078311043): np.int64(2),\n",
       "  np.float64(5.935434112498065): np.int64(3),\n",
       "  np.float64(7.587402123234559): np.int64(2),\n",
       "  np.float64(4.808177284235077): np.int64(3),\n",
       "  np.float64(4.666031279359474): np.int64(3),\n",
       "  np.float64(6.679008382118673): np.int64(3),\n",
       "  np.float64(4.4869073095889025): np.int64(3),\n",
       "  np.float64(6.687481377382182): np.int64(2)}}"
      ]
     },
     "execution_count": 49,
     "metadata": {},
     "output_type": "execute_result"
    }
   ],
   "source": [
    "decision_tree = build_tree(df)\n",
    "decision_tree"
   ]
  },
  {
   "cell_type": "code",
   "execution_count": 50,
   "metadata": {},
   "outputs": [
    {
     "data": {
      "text/html": [
       "<div>\n",
       "<style scoped>\n",
       "    .dataframe tbody tr th:only-of-type {\n",
       "        vertical-align: middle;\n",
       "    }\n",
       "\n",
       "    .dataframe tbody tr th {\n",
       "        vertical-align: top;\n",
       "    }\n",
       "\n",
       "    .dataframe thead th {\n",
       "        text-align: right;\n",
       "    }\n",
       "</style>\n",
       "<table border=\"1\" class=\"dataframe\">\n",
       "  <thead>\n",
       "    <tr style=\"text-align: right;\">\n",
       "      <th></th>\n",
       "      <th>sepal length (cm)</th>\n",
       "      <th>sepal width (cm)</th>\n",
       "      <th>petal length (cm)</th>\n",
       "      <th>petal width (cm)</th>\n",
       "    </tr>\n",
       "  </thead>\n",
       "  <tbody>\n",
       "    <tr>\n",
       "      <th>0</th>\n",
       "      <td>5.1</td>\n",
       "      <td>3.5</td>\n",
       "      <td>1.4</td>\n",
       "      <td>0.2</td>\n",
       "    </tr>\n",
       "    <tr>\n",
       "      <th>1</th>\n",
       "      <td>4.9</td>\n",
       "      <td>3.0</td>\n",
       "      <td>1.4</td>\n",
       "      <td>0.2</td>\n",
       "    </tr>\n",
       "    <tr>\n",
       "      <th>2</th>\n",
       "      <td>4.7</td>\n",
       "      <td>3.2</td>\n",
       "      <td>1.3</td>\n",
       "      <td>0.2</td>\n",
       "    </tr>\n",
       "    <tr>\n",
       "      <th>3</th>\n",
       "      <td>4.6</td>\n",
       "      <td>3.1</td>\n",
       "      <td>1.5</td>\n",
       "      <td>0.2</td>\n",
       "    </tr>\n",
       "    <tr>\n",
       "      <th>4</th>\n",
       "      <td>5.0</td>\n",
       "      <td>3.6</td>\n",
       "      <td>1.4</td>\n",
       "      <td>0.2</td>\n",
       "    </tr>\n",
       "  </tbody>\n",
       "</table>\n",
       "</div>"
      ],
      "text/plain": [
       "   sepal length (cm)  sepal width (cm)  petal length (cm)  petal width (cm)\n",
       "0                5.1               3.5                1.4               0.2\n",
       "1                4.9               3.0                1.4               0.2\n",
       "2                4.7               3.2                1.3               0.2\n",
       "3                4.6               3.1                1.5               0.2\n",
       "4                5.0               3.6                1.4               0.2"
      ]
     },
     "execution_count": 50,
     "metadata": {},
     "output_type": "execute_result"
    }
   ],
   "source": [
    "iris = load_iris()\n",
    "df = pd.DataFrame(iris.data, columns=iris.feature_names)\n",
    "df.head()"
   ]
  },
  {
   "cell_type": "code",
   "execution_count": 51,
   "metadata": {},
   "outputs": [],
   "source": [
    "K = 1000\n",
    "n_samples = len(df)"
   ]
  },
  {
   "cell_type": "code",
   "execution_count": 52,
   "metadata": {},
   "outputs": [
    {
     "name": "stdout",
     "output_type": "stream",
     "text": [
      "Average percentage of ignored instances over 1000 bootstraps: 36.61%\n"
     ]
    }
   ],
   "source": [
    "ignored_counts = []\n",
    "for _ in range(K):\n",
    "    bootstrap_sample = df.sample(n=n_samples, replace=True)  \n",
    "    ignored_instances = df.index.difference(bootstrap_sample.index)\n",
    "    ignored_counts.append(len(ignored_instances) / n_samples)  \n",
    "\n",
    "avg_ignored_fraction = np.mean(ignored_counts)\n",
    "print(f\"Average percentage of ignored instances over {K} bootstraps: {avg_ignored_fraction * 100:.2f}%\")"
   ]
  }
 ],
 "metadata": {
  "kernelspec": {
   "display_name": "venv",
   "language": "python",
   "name": "python3"
  },
  "language_info": {
   "codemirror_mode": {
    "name": "ipython",
    "version": 3
   },
   "file_extension": ".py",
   "mimetype": "text/x-python",
   "name": "python",
   "nbconvert_exporter": "python",
   "pygments_lexer": "ipython3",
   "version": "3.11.10"
  }
 },
 "nbformat": 4,
 "nbformat_minor": 2
}
