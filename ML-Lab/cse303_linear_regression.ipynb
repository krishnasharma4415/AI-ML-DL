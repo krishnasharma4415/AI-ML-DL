{
 "cells": [
  {
   "cell_type": "code",
   "execution_count": null,
   "metadata": {},
   "outputs": [],
   "source": [
    "import numpy as np\n",
    "import pandas as pd\n",
    "import matplotlib.pyplot as plt\n",
    "from sklearn.model_selection import train_test_split\n",
    "from sklearn.linear_model import LinearRegression\n",
    "from sklearn.metrics import mean_squared_error, r2_score"
   ]
  },
  {
   "cell_type": "code",
   "execution_count": null,
   "metadata": {},
   "outputs": [
    {
     "name": "stdout",
     "output_type": "stream",
     "text": [
      "Regression Coefficients:\n",
      "Slope (m): 1.1696969696969697\n",
      "Intercept (c): 1.2363636363636363\n",
      "Sum of Squared Error (SSE): 5.624242424242423\n",
      "R-squared (R2): 0.952538038613988\n"
     ]
    }
   ],
   "source": [
    "x = np.array([0, 1, 2, 3, 4, 5, 6, 7, 8, 9])\n",
    "y = np.array([1, 3, 2, 5, 7, 8, 8, 9, 10, 12])\n",
    "\n",
    "x_mean = np.mean(x)\n",
    "y_mean = np.mean(y)\n",
    "\n",
    "m = np.sum((x - x_mean) * (y - y_mean)) / np.sum((x - x_mean) ** 2)\n",
    "c = y_mean - m * x_mean\n",
    "\n",
    "y_pred = m * x + c\n",
    "\n",
    "sse = np.sum((y - y_pred) ** 2)\n",
    "r2 = 1 - sse / np.sum((y - y_mean) ** 2)\n",
    "\n",
    "print(\"Regression Coefficients:\")\n",
    "print(\"Slope (m):\", m)\n",
    "print(\"Intercept (c):\", c)\n",
    "print(\"Sum of Squared Error (SSE):\", sse)\n",
    "print(\"R-squared (R2):\", r2)"
   ]
  },
  {
   "cell_type": "code",
   "execution_count": null,
   "metadata": {},
   "outputs": [],
   "source": [
    "def gradient_descent(x, y, learning_rate, epochs, batch_size=None):\n",
    "    m = 0\n",
    "    c = 0\n",
    "    n = len(x)\n",
    "\n",
    "    for epoch in range(epochs):\n",
    "        if batch_size is None:\n",
    "            # Full-batch gradient descent\n",
    "            dm = -2 * np.sum((y - m * x - c) * x) / n\n",
    "            dc = -2 * np.sum(y - m * x - c) / n\n",
    "        else:\n",
    "            # Stochastic gradient descent\n",
    "            for i in range(0, n, batch_size):\n",
    "                batch_x = x[i:i+batch_size]\n",
    "                batch_y = y[i:i+batch_size]\n",
    "                dm = -2 * np.sum((batch_y - m * batch_x - c) * batch_x) / batch_size\n",
    "                dc = -2 * np.sum(batch_y - m * batch_x - c) / batch_size\n",
    "            dm /= n\n",
    "            dc /= n\n",
    "\n",
    "        m -= learning_rate * dm\n",
    "        c -= learning_rate * dc\n",
    "\n",
    "    return m, c"
   ]
  },
  {
   "cell_type": "code",
   "execution_count": 6,
   "metadata": {},
   "outputs": [
    {
     "name": "stdout",
     "output_type": "stream",
     "text": [
      "Gradient Descent Coefficients:\n",
      "Slope (m): 1.3170731707317067\n",
      "Intercept (c): 0.14634146341463394\n",
      "Sum of Squared Error (SSE): 9.237953599048195\n",
      "R-squared (R2): 0.9220425856620406\n"
     ]
    }
   ],
   "source": [
    "learning_rate = 0.01\n",
    "epochs = 1000\n",
    "batch_size = 1  # Stochastic gradient descent\n",
    "\n",
    "m_gd, c_gd = gradient_descent(x, y, learning_rate, epochs, batch_size)\n",
    "y_pred_gd = m_gd * x + c_gd\n",
    "\n",
    "sse_gd = np.sum((y - y_pred_gd) ** 2)\n",
    "r2_gd = 1 - sse_gd / np.sum((y - y_mean) ** 2)\n",
    "\n",
    "print(\"Gradient Descent Coefficients:\")\n",
    "print(\"Slope (m):\", m_gd)\n",
    "print(\"Intercept (c):\", c_gd)\n",
    "print(\"Sum of Squared Error (SSE):\", sse_gd)\n",
    "print(\"R-squared (R2):\", r2_gd)"
   ]
  },
  {
   "cell_type": "code",
   "execution_count": 7,
   "metadata": {},
   "outputs": [
    {
     "name": "stdout",
     "output_type": "stream",
     "text": [
      "Mean Squared Error (MSE): 0.5558915986952425\n",
      "R-squared (R2): 0.5757877060324521\n"
     ]
    }
   ],
   "source": [
    "from sklearn.datasets import fetch_california_housing\n",
    "\n",
    "housing = fetch_california_housing()\n",
    "X = housing.data  # Features\n",
    "y = housing.target  # Target (house price)\n",
    "\n",
    "X_train, X_test, y_train, y_test = train_test_split(X, y, test_size=0.2, random_state=42)\n",
    "\n",
    "model = LinearRegression()\n",
    "\n",
    "model.fit(X_train, y_train)\n",
    "\n",
    "y_pred = model.predict(X_test)\n",
    "\n",
    "# Evaluate the model\n",
    "mse = mean_squared_error(y_test, y_pred)\n",
    "r2 = r2_score(y_test, y_pred)\n",
    "\n",
    "print(\"Mean Squared Error (MSE):\", mse)\n",
    "print(\"R-squared (R2):\", r2)"
   ]
  }
 ],
 "metadata": {
  "kernelspec": {
   "display_name": ".venv",
   "language": "python",
   "name": "python3"
  },
  "language_info": {
   "codemirror_mode": {
    "name": "ipython",
    "version": 3
   },
   "file_extension": ".py",
   "mimetype": "text/x-python",
   "name": "python",
   "nbconvert_exporter": "python",
   "pygments_lexer": "ipython3",
   "version": "3.11.0"
  }
 },
 "nbformat": 4,
 "nbformat_minor": 2
}
