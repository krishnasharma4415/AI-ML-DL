{
 "cells": [
  {
   "cell_type": "markdown",
   "id": "7de642c0",
   "metadata": {},
   "source": [
    "Demonstration of List operations for List of Websites (Create, Insert element, Delete element, Print elements, Search element etc.)"
   ]
  },
  {
   "cell_type": "code",
   "execution_count": 3,
   "id": "94031201",
   "metadata": {},
   "outputs": [
    {
     "name": "stdout",
     "output_type": "stream",
     "text": [
      "length: 3\n"
     ]
    },
    {
     "data": {
      "text/plain": [
       "['google.com', 'youtube.com', 'facebook.com']"
      ]
     },
     "execution_count": 3,
     "metadata": {},
     "output_type": "execute_result"
    }
   ],
   "source": [
    "websites = [\"google.com\", \"youtube.com\", \"facebook.com\"]\n",
    "print(\"length:\",len(websites))\n",
    "websites"
   ]
  },
  {
   "cell_type": "code",
   "execution_count": 4,
   "id": "b6876323",
   "metadata": {},
   "outputs": [],
   "source": [
    "websites.append(\"twitter.com\")"
   ]
  },
  {
   "cell_type": "code",
   "execution_count": 5,
   "id": "bdfed64c",
   "metadata": {},
   "outputs": [],
   "source": [
    "websites.insert(2, \"instagram.com\")"
   ]
  },
  {
   "cell_type": "code",
   "execution_count": 7,
   "id": "4c754889",
   "metadata": {},
   "outputs": [
    {
     "name": "stdout",
     "output_type": "stream",
     "text": [
      "0: google.com\n",
      "1: youtube.com\n",
      "2: instagram.com\n",
      "3: facebook.com\n",
      "4: twitter.com\n"
     ]
    }
   ],
   "source": [
    "for i in range(len(websites)):\n",
    "    print(f\"{i}: {websites[i]}\")"
   ]
  },
  {
   "cell_type": "code",
   "execution_count": 8,
   "id": "f8ae2148",
   "metadata": {},
   "outputs": [
    {
     "name": "stdout",
     "output_type": "stream",
     "text": [
      "'google.com' found at index 0\n"
     ]
    }
   ],
   "source": [
    "x = \"google.com\"\n",
    "if x in websites:\n",
    "    position = websites.index(x)\n",
    "    print(f\"'{x}' found at index {position}\")\n",
    "else:\n",
    "    print(f\"'{x}' not found in list\")"
   ]
  },
  {
   "cell_type": "code",
   "execution_count": 10,
   "id": "da9c7f99",
   "metadata": {},
   "outputs": [
    {
     "name": "stdout",
     "output_type": "stream",
     "text": [
      "'facebook.com' not found in list\n"
     ]
    }
   ],
   "source": [
    "x = \"facebook.com\"\n",
    "if x in websites:\n",
    "    websites.remove(x)\n",
    "    print(f\"deleted '{x}' from list\")\n",
    "else:\n",
    "    print(f\"'{x}' not found in list\")"
   ]
  }
 ],
 "metadata": {
  "kernelspec": {
   "display_name": ".venv",
   "language": "python",
   "name": "python3"
  },
  "language_info": {
   "codemirror_mode": {
    "name": "ipython",
    "version": 3
   },
   "file_extension": ".py",
   "mimetype": "text/x-python",
   "name": "python",
   "nbconvert_exporter": "python",
   "pygments_lexer": "ipython3",
   "version": "3.11.0"
  }
 },
 "nbformat": 4,
 "nbformat_minor": 5
}
