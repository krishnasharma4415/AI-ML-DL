{
 "cells": [
  {
   "cell_type": "code",
   "execution_count": null,
   "metadata": {},
   "outputs": [],
   "source": [
    "import numpy as np\n",
    "import matplotlib.pyplot as plt\n",
    "from sklearn.datasets import load_iris\n",
    "from sklearn.model_selection import train_test_split, StratifiedKFold\n",
    "from sklearn.linear_model import LogisticRegression\n",
    "from sklearn.svm import SVC\n",
    "from sklearn.ensemble import RandomForestClassifier"
   ]
  },
  {
   "cell_type": "code",
   "execution_count": 37,
   "metadata": {},
   "outputs": [],
   "source": [
    "iris = load_iris()\n",
    "X = iris.data\n",
    "y = iris.target"
   ]
  },
  {
   "cell_type": "code",
   "execution_count": 38,
   "metadata": {},
   "outputs": [],
   "source": [
    "y_binary = (y == 0).astype(int)\n",
    "X_train, X_test, y_train, y_test = train_test_split(X, y_binary, test_size=0.3, random_state=42)"
   ]
  },
  {
   "cell_type": "code",
   "execution_count": 48,
   "metadata": {},
   "outputs": [],
   "source": [
    "model = LogisticRegression()\n",
    "model.fit(X_train, y_train)\n",
    "probs = model.predict_proba(X_test)[:, 1]"
   ]
  },
  {
   "cell_type": "code",
   "execution_count": 40,
   "metadata": {},
   "outputs": [],
   "source": [
    "def precision_score(y_true, y_pred):\n",
    "    tp = np.sum((y_pred == 1) & (y_true == 1))\n",
    "    fp = np.sum((y_pred == 1) & (y_true == 0))\n",
    "    return tp / (tp + fp) if (tp + fp) != 0 else 0\n",
    "\n",
    "def recall_score(y_true, y_pred):\n",
    "    tp = np.sum((y_pred == 1) & (y_true == 1))\n",
    "    fn = np.sum((y_pred == 0) & (y_true == 1))\n",
    "    return tp / (tp + fn) if (tp + fn) != 0 else 0\n",
    "\n",
    "def f1_score(precision, recall):\n",
    "    return 2 * precision * recall / (precision + recall) if (precision + recall) != 0 else 0\n"
   ]
  },
  {
   "cell_type": "code",
   "execution_count": null,
   "metadata": {},
   "outputs": [],
   "source": [
    "thresholds = [0.3, 0.5, 0.7]\n",
    "precisions = []\n",
    "recalls = []\n",
    "f1_scores = []\n",
    "\n",
    "for threshold in thresholds:\n",
    "    preds = (probs >= threshold).astype(int)\n",
    "    prec = precision_score(y_test, preds)\n",
    "    rec = recall_score(y_test, preds)\n",
    "    f1 = f1_score(prec, rec)\n",
    "    \n",
    "    precisions.append(prec)\n",
    "    recalls.append(rec)\n",
    "    f1_scores.append(f1)"
   ]
  },
  {
   "cell_type": "code",
   "execution_count": 43,
   "metadata": {},
   "outputs": [
    {
     "name": "stdout",
     "output_type": "stream",
     "text": [
      "precisions: [np.float64(1.0), np.float64(1.0), np.float64(1.0)]\n",
      "recalls: [np.float64(1.0), np.float64(1.0), np.float64(1.0)]\n",
      "f1_scores: [np.float64(1.0), np.float64(1.0), np.float64(1.0)]\n"
     ]
    }
   ],
   "source": [
    "print(\"precisions:\", precisions)\n",
    "print(\"recalls:\", recalls)\n",
    "print(\"f1_scores:\", f1_scores)"
   ]
  },
  {
   "cell_type": "code",
   "execution_count": 44,
   "metadata": {},
   "outputs": [
    {
     "data": {
      "image/png": "[encoded data removed]",
      "text/plain": [
       "<Figure size 800x600 with 1 Axes>"
      ]
     },
     "metadata": {},
     "output_type": "display_data"
    }
   ],
   "source": [
    "plt.figure(figsize=(8, 6))\n",
    "plt.plot(thresholds, precisions, label=\"Precision\", marker='o')\n",
    "plt.plot(thresholds, recalls, label=\"Recall\", marker='o')\n",
    "plt.plot(thresholds, f1_scores, label=\"F1-Score\", marker='o')\n",
    "plt.title(\"Precision, Recall, F1-Score vs Threshold\")\n",
    "plt.xlabel(\"Threshold\")\n",
    "plt.ylabel(\"Score\")\n",
    "plt.ylim(0, 1.1)\n",
    "plt.legend()\n",
    "plt.grid(True)\n",
    "plt.show()"
   ]
  },
  {
   "cell_type": "code",
   "execution_count": 49,
   "metadata": {},
   "outputs": [],
   "source": [
    "clf1 = RandomForestClassifier(random_state=42)\n",
    "clf2 = SVC(kernel=\"linear\", probability=True, random_state=42)"
   ]
  },
  {
   "cell_type": "code",
   "execution_count": 50,
   "metadata": {},
   "outputs": [],
   "source": [
    "kf = StratifiedKFold(n_splits=10, shuffle=True, random_state=42)\n",
    "\n",
    "f1_scores_clf1 = []\n",
    "f1_scores_clf2 = []\n",
    "\n",
    "for train_index, test_index in kf.split(X, y):\n",
    "    X_train, X_test = X[train_index], X[test_index]\n",
    "    y_train, y_test = y[train_index], y[test_index]\n",
    "\n",
    "    clf1.fit(X_train, y_train)\n",
    "    preds1 = clf1.predict(X_test)\n",
    "    f1_scores_clf1.append(f1_score(y_test, preds1, average=\"macro\"))\n",
    "\n",
    "    clf2.fit(X_train, y_train)\n",
    "    preds2 = clf2.predict(X_test)\n",
    "    f1_scores_clf2.append(f1_score(y_test, preds2, average=\"macro\"))"
   ]
  },
  {
   "cell_type": "code",
   "execution_count": 51,
   "metadata": {},
   "outputs": [],
   "source": [
    "f1_scores_clf1 = np.array(f1_scores_clf1)\n",
    "f1_scores_clf2 = np.array(f1_scores_clf2)\n",
    "\n",
    "diff = f1_scores_clf1 - f1_scores_clf2\n",
    "mean_diff = np.mean(diff)\n",
    "var_diff = np.sum((diff - mean_diff) ** 2) / 10\n",
    "\n",
    "t_statistic = mean_diff / np.sqrt(var_diff / 10)"
   ]
  },
  {
   "cell_type": "code",
   "execution_count": 52,
   "metadata": {},
   "outputs": [
    {
     "name": "stdout",
     "output_type": "stream",
     "text": [
      "Random Forest F1-Scores (10 folds): [1.         1.         1.         0.93265993 0.86666667 0.93265993\n",
      " 1.         1.         0.93265993 0.86111111]\n",
      "SVM F1-Scores (10 folds): [1.         1.         1.         1.         0.93265993 0.86111111\n",
      " 1.         1.         1.         1.        ]\n",
      "Paired t-test statistic: -1.5308629310536344\n"
     ]
    }
   ],
   "source": [
    "print(f\"Random Forest F1-Scores (10 folds): {f1_scores_clf1}\")\n",
    "print(f\"SVM F1-Scores (10 folds): {f1_scores_clf2}\")\n",
    "print(f\"Paired t-test statistic: {t_statistic}\")"
   ]
  }
 ],
 "metadata": {
  "kernelspec": {
   "display_name": ".venv",
   "language": "python",
   "name": "python3"
  },
  "language_info": {
   "codemirror_mode": {
    "name": "ipython",
    "version": 3
   },
   "file_extension": ".py",
   "mimetype": "text/x-python",
   "name": "python",
   "nbconvert_exporter": "python",
   "pygments_lexer": "ipython3",
   "version": "3.11.0"
  }
 },
 "nbformat": 4,
 "nbformat_minor": 2
}
